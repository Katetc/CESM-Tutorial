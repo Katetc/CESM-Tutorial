{
 "cells": [
  {
   "cell_type": "markdown",
   "id": "f406f992-92bd-4b17-9bd3-b99c5c8abaf3",
   "metadata": {},
   "source": [
    "# CESM Community Experiment Availability"
   ]
  },
  {
   "cell_type": "markdown",
   "id": "59bb8a3f-74a5-4c7f-aaa7-15d22fe59b4a",
   "metadata": {},
   "source": [
    "## CESM Experiments\n",
    "\n",
    "Information about community experiments performed with CESM version 2 and previous verisons of the model (CSM1, CCSM2, CCSM3, CESM1) are documented on an experiments webpage. "
   ]
  },
  {
   "cell_type": "markdown",
   "id": "c6540e1c-d489-401b-b227-2da4f69c50ec",
   "metadata": {},
   "source": [
    "<div class=\"alert alert-info\" style=\"text-align: center;\">\n",
    "\n",
    "[CESM experiments webpage](https://www.cesm.ucar.edu/experiments)\n",
    "\n",
    "</div>"
   ]
  },
  {
   "cell_type": "markdown",
   "id": "387a41d7-3e1f-4272-9ba6-7940dc3c9f7f",
   "metadata": {},
   "source": [
    "Explore this webpage and then click on the CESM2 Experiments, Data, and Diagnostic Output link."
   ]
  },
  {
   "cell_type": "markdown",
   "id": "501487a2-94b7-4947-a273-208b0106c0fd",
   "metadata": {},
   "source": [
    "![CESM Experiments](../../images/tools/CESM_exp_1.png)\n",
    "\n",
    "*<p style=\"text-align: center;\"> Figure: CESM experiments webpage. </p>*"
   ]
  },
  {
   "cell_type": "markdown",
   "id": "26b40b47-8dfc-4477-99f2-f54f859ea47c",
   "metadata": {},
   "source": [
    "This page provides a searchable list of all the CESM2 experiments available to the public. \n",
    "Recall the CESM naming conventions (**LINK NEEDED**) to help you interpret the casenames.\n",
    "\n",
    "Click on the experiment that corresponds to the CESM2 CMIP6 preindustrial control experiment:\n",
    "b.e21.B1850.f09_g17.MIP6-piControl.001\n"
   ]
  },
  {
   "cell_type": "markdown",
   "id": "50f1a8e8-90d0-44e7-8fcf-5dd2f0b09d3f",
   "metadata": {},
   "source": [
    "![CESM Experiments](../../images/tools/CESM_exp_2.png)\n",
    "\n",
    "*<p style=\"text-align: center;\"> Figure: CESM2 CMIP6 PI control experiment. </p>*"
   ]
  },
  {
   "cell_type": "markdown",
   "id": "42e2aada-04d8-40ba-8ae2-3d501782dadb",
   "metadata": {},
   "source": [
    "Information about this experiment drops down below the experiment name. There are three main sections of information:\n",
    "\n",
    "- The title of the experiment with active components listed.\n",
    "- Links to the data and/or the NCAR HPC directory with data. (#1, green arrow)\n",
    "- Links to the diagnostic component package output and the Climate Variability Diagnostics Package. (#2, blue arrow)\n",
    "- Details about the run, including the resolution, compset, etc. (#3, red arrow)"
   ]
  },
  {
   "cell_type": "markdown",
   "id": "acc4a80d-6760-4021-9527-e9b66d468ba1",
   "metadata": {},
   "source": [
    "![CESM Experiments](../../images/tools/CESM_exp_3.png)\n",
    "\n",
    "*<p style=\"text-align: center;\"> Figure: Example information for a CESM2 experiment. </p>*"
   ]
  },
  {
   "cell_type": "markdown",
   "id": "9d8e3ee1-e605-4894-afd2-b0a83420711a",
   "metadata": {},
   "source": [
    "## Climate Data Gateway\n",
    "\n",
    "Publicly released CESM data is available via the Climate Data Gateway. Timeseries data in both CESM standard format and CMIP format are available. Registration is quick and easy, and NCAR accounts are not required for access."
   ]
  },
  {
   "cell_type": "markdown",
   "id": "4afe3049-6271-4659-b23d-b4627dc31e93",
   "metadata": {},
   "source": [
    "<div class=\"alert alert-info\" style=\"text-align: center;\">\n",
    "\n",
    "[Climate Data Gateway webpage](https://www.earthsystemgrid.org/)\n",
    "\n",
    "</div>"
   ]
  },
  {
   "cell_type": "markdown",
   "id": "43c2831e-6726-4718-8460-2a042109003b",
   "metadata": {},
   "source": [
    "## Climate Data Guide\n",
    "\n",
    "The Climate Data Guide describes observations used for Earth System Model evaluation. To date 150+ data sets have been profiled. Expert-user guidance by 45+ scientists is provided to users, including pros and cons of each dataset. There are also comparisons of common variables (e.g. precipitation, sea surface temperature, sea ice concentration, etc.)."
   ]
  },
  {
   "cell_type": "markdown",
   "id": "422d7b55-49d9-4059-90ff-eec47665f874",
   "metadata": {},
   "source": [
    "<div class=\"alert alert-info\" style=\"text-align: center;\">\n",
    "\n",
    "[Climate Data Guide webpage](http://climatedataguide.ucar.edu/)\n",
    "\n",
    "</div>"
   ]
  },
  {
   "cell_type": "markdown",
   "id": "20c5f8a3-2dad-4be3-9008-aef00a5a67b6",
   "metadata": {},
   "source": [
    "## Summary\n",
    "\n",
    "In this summary of openly available CESM experiments we laid out how to navigate the CESM Experiment website to get fundamental information about the experiments and links to diagnostic data (if available). We also provided links to the Climate Data Gateway and Climate Data Guide, which are useful resources to have for downloading CESM data and observational datasets to use for CESM evaluation."
   ]
  }
 ],
 "metadata": {
  "kernelspec": {
   "display_name": "Bash",
   "language": "bash",
   "name": "bash"
  },
  "language_info": {
   "codemirror_mode": "shell",
   "file_extension": ".sh",
   "mimetype": "text/x-sh",
   "name": "bash"
  }
 },
 "nbformat": 4,
 "nbformat_minor": 5
}
