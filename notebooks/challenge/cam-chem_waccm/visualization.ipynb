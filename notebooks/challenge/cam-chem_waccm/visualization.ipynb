{
 "cells": [
  {
   "cell_type": "markdown",
   "id": "retained-browse",
   "metadata": {},
   "source": [
    "# 4: Visualization option with GEOV"
   ]
  },
  {
   "cell_type": "markdown",
   "id": "irish-letters",
   "metadata": {},
   "source": [
    "\n",
    "<div class=\"alert alert-info\">\n",
    "<strong>Visualization with GEOV </strong><br><br>\n",
    " \n",
    "CESM history files are in standard netCDF format, and may be analyzed with standard\n",
    "analysis tools, including Matlab, IDL, NCL, and NCO and ncview.\n",
    "    \n",
    "GEOV is an IDL-based viewer with a graphical user interface (GUI) for geophysical history files created by NCAR's CAM, WACCM and MOZART models. GEOV can be downloaded from the WACCM webpage <br>\n",
    "http://www.cesm.ucar.edu/working_groups/Whole-Atmosphere/code-release.html\n",
    "    \n",
    "To install and use GEOV on cheyenne:\n",
    "    \n",
    "Add idl module: <br>\n",
    "``module load idl`` <br>\n",
    "Then edit your ``.cshrc`` file. Add line: <br>\n",
    "``setenv IDL_STARTUP ~fvitt/idl_startup``\n",
    "    \n",
    "The ``~fvitt/idl_startup`` sets the idl path to include GEOV: <br>\n",
    "```\n",
    "idl_path = expand_path('+~fvitt/geov’)\n",
    "!path=!path+':'+idl_path\n",
    "```\n",
    "    \n",
    "Finally, load your updated ``.cshrc`` file and start GEOV\n",
    "```\n",
    "source .cshrc\n",
    "cd /glade/u/home/fvitt/geov4.8e\n",
    "idl geov\n",
    "```\n",
    " \n",
    "Some examples of the GEOV interface:\n",
    "\n",
    "![GEOV map](../../../images/challenge/GEOV-latlon.png)\n",
    "<p style=\"text-align: center;\"> Figure 1: Example using GEOV to look at a map of model temperature. </p>\n",
    "    \n",
    "![GEOV zonal slice](../../../images/challenge/GEOV-zonal.png)\n",
    "<p style=\"text-align: center;\"> Figure 2: CAM-chem tested F compsets. </p>\n",
    "    \n",
    "</div>\n"
   ]
  },
  {
   "cell_type": "code",
   "execution_count": null,
   "id": "ambient-nothing",
   "metadata": {},
   "outputs": [],
   "source": []
  }
 ],
 "metadata": {
  "kernelspec": {
   "display_name": "Python 3",
   "language": "python",
   "name": "python3"
  },
  "language_info": {
   "codemirror_mode": {
    "name": "ipython",
    "version": 3
   },
   "file_extension": ".py",
   "mimetype": "text/x-python",
   "name": "python",
   "nbconvert_exporter": "python",
   "pygments_lexer": "ipython3",
   "version": "3.9.1"
  }
 },
 "nbformat": 4,
 "nbformat_minor": 5
}
