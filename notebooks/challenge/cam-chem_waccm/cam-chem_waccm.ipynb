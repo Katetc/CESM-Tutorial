{
 "cells": [
  {
   "cell_type": "markdown",
   "id": "frequent-kansas",
   "metadata": {},
   "source": [
    "# CAM-chem/WACCM"
   ]
  },
  {
   "cell_type": "markdown",
   "id": "partial-antenna",
   "metadata": {
    "tags": []
   },
   "source": [
    "## Learning Goals\n",
    "\n",
    "- Student will learn about different chemistry (CAM-chem/WACCM) compsets and how to run one.\n",
    "- Student will learn how to modify chemistry and change output settings.\n",
    "- Student will learn how to change emissions.\n"
   ]
  },
  {
   "cell_type": "markdown",
   "id": "steady-regression",
   "metadata": {},
   "source": [
    "## CAM-chem and WACCM component sets\n",
    "\n",
    "The CESM2 components can be combined in numerous ways to carry out various scientific or software experiments. A particular mix of components, along with component-specific configuration and/or namelist settings, is called a component set or ``compset``. \n",
    "\n",
    "**WACCM** (Whole Atmosphere Community Climate Model) and **CAM-chem** (Community Atmosphere Model with chemistry) are atmospheric components of CESM, like CAM. They can be run as ``F`` and ``B`` compsets, as well as with nudged meteorology (for example towards reanalysis). They can be run using various dycores and resolutions.\n",
    "In contrast to CAM, WACCM and CAM-chem run with different possibilities of chemistry complexity, whereby CAM uses simplified chemistry. CAM and CAM-chem use the same vertical resolution and model top.\n",
    "Different chemical mechanisms for CAM-chem with more or less complexity have been developed based on the MOZART-TS1 and TS2 (currently the most comprehensive) chemical mechanism.\n",
    "WACCM has a model top at about 150km and therefore covers the Troposphere, Stratosphere, Mesosphere and Lower-Thermosphere. The most comprehensive WACCM mechanism is therefore called the TSMLT chemical mechanism.\n",
    "WACCM can also run with Middle Atmosphere (MA) chemistry (e.g., FWmaHIST, which includes very simplified chemistry in the troposphere, and with Specified Chemistry (e.g., FWscHIST), similar to the CAM chemistry.\n"
   ]
  },
  {
   "cell_type": "markdown",
   "id": "industrial-waste",
   "metadata": {},
   "source": [
    "## CAM-chem and WACCM tested F component sets\n",
    "\n",
    "In CESM2.2 only the CAM-chem F compsets have been scientifically tested and no PI-control or transient history simulation has been scientifically validated. In contrast, WACCM has been used for CMIP6 simulations.\n",
    "Two different nudging approaches exist using CAM-chem and WACCM, both using MERRA2 or GEOS5 meteorological analysis fields. The ``nudged`` approach is the recommended approach that uses meteorological fields (U, V, T) on CESM model levels.\n",
    "The older specified dynamics (SD) approach requires the model to run on the vertical MERRA2 grids.\n",
    "\n",
    "An overview of different compsets can be found in the diagrams below.\n",
    "\n",
    "\n",
    "![CAMChem tested F compsets](../../../images/challenge/CAMchem_compsets.png)\n",
    "<p style=\"text-align: center;\"> Figure 1: CAM-chem tested F compsets. </p>\n",
    "\n",
    "![WACCM scientifically supported F compsets](../../../images/challenge/WACCM_compsets1.png)\n",
    "<p style=\"text-align: center;\"> Figure 2: WACCM scientifically supported F compsets. </p>\n",
    "\n",
    "![WACCM tested F compsets](../../../images/challenge/WACCM_compsets2.png)\n",
    "<p style=\"text-align: center;\"> Figure 3: WACCM tested F compsets. </p>"
   ]
  },
  {
   "cell_type": "markdown",
   "id": "intense-eating",
   "metadata": {},
   "source": [
    "## Overview of the Challenge Exercises for CAM-chem/WACCM\n",
    "Start running one control case and choose between two options:\n",
    "\n",
    "a) Run a CAM-chem compset with TS1 chemistry, historical SSTs and 0.9x1.25 degrees horizontal resolution <br>\n",
    "b) Run a WACCM with TSMLT1 chemistry, historical SSTs and 0.9x1.25 degrees horizontal resolution\n",
    "\n",
    "Once a control case has been configured and run, perform two test cases - one changing chemistry and one changing emissions."
   ]
  },
  {
   "cell_type": "markdown",
   "id": "presidential-bryan",
   "metadata": {},
   "source": [
    "_______________\n",
    "\n",
    "\n",
    "\n",
    "### Finding more information about compsets\n",
    "\n",
    "If you want to run a different configuration from what you’ve learned here, it is important to learn how to find and/or modify a compset.\n",
    "\n",
    "Task: Using the tools above and/or web searches below, find a CESM compset with an active atmosphere version cam6.0, that uses historical forcing data including sea surface temperatures. If you find several candidates, look at the components option and/or webpage to decide. Is it scientifically validated? For what resolutions?\n",
    "\n",
    "Tools in ``/glade/p/cesm/tutorial/cesm2.1_tutorial2022/cime/scripts`` directory :\n",
    "``query_config --compsets``\n",
    "\n",
    "Gives a list of all the compsets available, and what components are included. This can show exactly what you ran before, and what is possible. To narrow down your choices:\n",
    "  ``query_config --compsets | grep -i hist``\n",
    "If you want to build your own, you can see all your options, perhaps modify one of the above with changes ``query_config --components``\n",
    "\n",
    "More explanation (and some more options) can be found in the docs: <br>\n",
    "https://wiki.ucar.edu/display/camchem/Home <br>\n",
    "https://www.cesm.ucar.edu/models/cesm2/config/compsets.html <br>\n",
    "https://ncar.github.io/CAM/doc/build/html/users_guide/atmospheric-configurations.html\n"
   ]
  },
  {
   "cell_type": "code",
   "execution_count": null,
   "id": "smooth-supervisor",
   "metadata": {},
   "outputs": [],
   "source": []
  }
 ],
 "metadata": {
  "kernelspec": {
   "display_name": "Python 3",
   "language": "python",
   "name": "python3"
  },
  "language_info": {
   "codemirror_mode": {
    "name": "ipython",
    "version": 3
   },
   "file_extension": ".py",
   "mimetype": "text/x-python",
   "name": "python",
   "nbconvert_exporter": "python",
   "pygments_lexer": "ipython3",
   "version": "3.9.1"
  }
 },
 "nbformat": 4,
 "nbformat_minor": 5
}
