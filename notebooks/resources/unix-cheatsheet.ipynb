{
 "cells": [
  {
   "cell_type": "markdown",
   "id": "f406f992-92bd-4b17-9bd3-b99c5c8abaf3",
   "metadata": {},
   "source": [
    "# UNIX"
   ]
  },
  {
   "cell_type": "markdown",
   "id": "011c91f1-75f0-496e-a329-45ed70297e86",
   "metadata": {},
   "source": [
    "Most CESM users and developers use the UNIX environment to set up CESM experiments and do preliminary analysis of their CESM model output data. We strongly suggest those using CESM become familiar with working in a command line environment."
   ]
  },
  {
   "cell_type": "markdown",
   "id": "31e68033-a4f3-4866-8048-f2f57900f98b",
   "metadata": {},
   "source": [
    "The module listed below, from The COMET Program, will help those unfamiliar with UNIX. You can learn about the basics of UNIX file structures, how to navigate in a UNIX environment, and you'll get to practice creating, storing and searching for files.\n",
    "\n",
    "The expected length is 15-30 minutes for users with some UNIX experience, and 30-60 minutes for novices.\n"
   ]
  },
  {
   "cell_type": "markdown",
   "id": "b343574d-dae5-4653-87fd-db6d0748b338",
   "metadata": {},
   "source": [
    "<div class=\"alert alert-info\" style=\"text-align: center;\">\n",
    "\n",
    "[UNIX module from COMET](https://www.meted.ucar.edu/ucar/unix/)\n",
    "\n",
    "</div>"
   ]
  },
  {
   "cell_type": "markdown",
   "id": "770789d3-867e-41e8-8b3c-9a25cbfab417",
   "metadata": {},
   "source": [
    "## Unix cheatsheet\n",
    "\n",
    "\n"
   ]
  },
  {
   "cell_type": "markdown",
   "id": "76bc874f-270c-4a05-8fe9-eac874cb0db7",
   "metadata": {},
   "source": [
    "<table border=\"1\" cellpadding=\"5\" cellspacing=\"0\">\n",
    "  <tr>\n",
    "    <th>Command</th>\n",
    "    <th>Description</th>\n",
    "    <th>Options</th>\n",
    "    <th>Examples</th>\n",
    "  </tr>\n",
    "  <tr>\n",
    "    <td><b>ls</b></td>\n",
    "    <td>List files and directories.</td>\n",
    "    <td><b>-l</b>: Long format listing.<br><b>-a</b>: Include hidden files.</td>\n",
    "    <td><b>ls -l</b> <br> displays files and directories with detailed information.<br><br> <b>ls -a</b> shows all files and directories, including hidden ones.<br></td>\n",
    "  </tr>\n",
    "  <tr>\n",
    "    <td><b>cd</b></td>\n",
    "    <td>Change directory.</td>\n",
    "    <td>N/A</td>\n",
    "    <td><b>cd /path/to/directory</b> <br>  changes the current directory to the specified path.</td>\n",
    "  </tr>\n",
    "  <tr>\n",
    "    <td><b>pwd</b></td>\n",
    "    <td>Print current working directory.</td>\n",
    "    <td>N/A</td>\n",
    "    <td><b>pwd</b> <br> displays the current working directory.</td>\n",
    "  </tr>\n",
    "  <tr>\n",
    "    <td><b>mkdir</b></td>\n",
    "    <td>Create a new directory.</td>\n",
    "    <td>N/A</td>\n",
    "    <td><b>mkdir my_directory</b> <br> creates a new directory named \"my_directory\".</td>\n",
    "  </tr>\n",
    "  <tr>\n",
    "    <td><b>rm</b></td>\n",
    "    <td>Remove files and directories.</td>\n",
    "    <td><b>-r</b>: Remove directories recursively.<br><b>-f</b>: Force removal without confirmation.</td>\n",
    "    <td><b>rm file.txt</b> <br> deletes the file named \"file.txt\".<br><b>rm -r my_directory</b> <br> deletes the directory \"my_directory\" and its contents.<br><b>rm -f file.txt</b> <br> forcefully deletes the file \"file.txt\" without confirmation.</td>\n",
    "  </tr>\n",
    "  <tr>\n",
    "    <td><b>cp</b></td>\n",
    "    <td>Copy files and directories.</td>\n",
    "    <td><b>-r</b>: Copy directories recursively.</td>\n",
    "    <td><b>cp -r directory destination</b> <br> copies the directory \"directory\" and its contents to the specified destination.<br><b>cp file.txt destination</b> <br> copies the file \"file.txt\" to the specified destination.</td>\n",
    "  </tr>\n",
    "  <tr>\n",
    "    <td><b>mv</b></td>\n",
    "    <td>Move/rename files and directories.</td>\n",
    "    <td>N/A</td>\n",
    "    <td><b>mv file.txt new_name.txt</b> <br> renames the file \"file.txt\" to \"new_name.txt\".<br><b>mv file.txt directory</b> <br> moves the file \"file.txt\" to the specified directory.</td>\n",
    "  </tr>\n",
    "  <tr>\n",
    "    <td><b>find</b></td>\n",
    "    <td>Search for files and directories.</td>\n",
    "    <td><b>-name</b>: Search by filename.</td>\n",
    "    <td><b>find /path/to/search -name “*.txt”</b> <br> searches for all files with the extension “.txt” in the specified directory.</td>\n",
    "  </tr>\n",
    "  </tr>"
   ]
  },
  {
   "cell_type": "markdown",
   "id": "805c8473-8106-4ba6-9d8e-c27cee7fcd7d",
   "metadata": {},
   "source": []
  },
  {
   "cell_type": "code",
   "execution_count": null,
   "id": "96f010ce-2005-4a69-9081-7ced219e66ea",
   "metadata": {},
   "outputs": [],
   "source": []
  }
 ],
 "metadata": {
  "kernelspec": {
   "display_name": "Python 3 (ipykernel)",
   "language": "python",
   "name": "python3"
  },
  "language_info": {
   "codemirror_mode": {
    "name": "ipython",
    "version": 3
   },
   "file_extension": ".py",
   "mimetype": "text/x-python",
   "name": "python",
   "nbconvert_exporter": "python",
   "pygments_lexer": "ipython3",
   "version": "3.10.13"
  }
 },
 "nbformat": 4,
 "nbformat_minor": 5
}
