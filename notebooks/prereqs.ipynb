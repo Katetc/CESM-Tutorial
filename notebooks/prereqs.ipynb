{
 "cells": [
  {
   "cell_type": "markdown",
   "id": "f406f992-92bd-4b17-9bd3-b99c5c8abaf3",
   "metadata": {},
   "source": [
    "# Prerequisites for Success\n"
   ]
  },
  {
   "cell_type": "markdown",
   "id": "4651282a-0c4f-449a-bf36-74af04e7281e",
   "metadata": {},
   "source": [
    "The materials and notebooks in this tutorial are published as a Jupyter book here to allow for searchable online documentation, but to run the actual commands presented you will need to use a terminal window. Therefore, in order to successfully complete this tutorial you will:\n",
    "- Utilize a terminal window\n",
    "- Issue commands at the command line using UNIX\n",
    "- Need to be able to access and run on the Cheyenne and Casper HPC assets\n",
    "- Use JupyterHub for some basic diagnostic plotting\n",
    "\n",
    "The links below provide more information about these topics. If you are not familiar any of the four topics above, then we strongly recommend that you read through these sections."
   ]
  },
  {
   "cell_type": "markdown",
   "id": "24e22d53-7b0b-4fb8-82ad-360e75e64ac0",
   "metadata": {},
   "source": [
    "## Terminal windows"
   ]
  },
  {
   "cell_type": "markdown",
   "id": "14f5fe74-cc59-4ccc-af62-e31650e1372c",
   "metadata": {},
   "source": [
    "For most of these tutorial exercises, we assume that you will use the online documentation in tandem with an open terminal window. The commands described in these materials will need to be entered at the command line in your terminal window.\n",
    "\n",
    "If you are unfamiliar with opening terminal windows, we suggest you use the link below to learn more about terminal windows. "
   ]
  },
  {
   "cell_type": "markdown",
   "id": "01790d14-4535-4e0a-a7da-38ac467717de",
   "metadata": {},
   "source": [
    "<div class=\"alert alert-info\" style=\"text-align: center;\">\n",
    "\n",
    "[Terminals](https://ncar.github.io/CESM-Tutorial/notebooks/resources/terminals.html#terminal-windows)\n",
    "    \n",
    "</div>"
   ]
  },
  {
   "cell_type": "markdown",
   "id": "37406e6f-57c2-4493-86a9-52bc2d5eb3f8",
   "metadata": {},
   "source": [
    "## UNIX"
   ]
  },
  {
   "cell_type": "markdown",
   "id": "6572f442-e01a-4809-a90d-c251ff79f8af",
   "metadata": {},
   "source": [
    "The commands described in these materials will be entered in a UNIX environment. If you are unfamiliar with navigating a UNIX environment, we suggest you use the link below to learn more about UNIX. "
   ]
  },
  {
   "cell_type": "markdown",
   "id": "e664eb92-e98d-4c3d-afbe-ea517b71439b",
   "metadata": {},
   "source": [
    "<div class=\"alert alert-info\" style=\"text-align: center;\">\n",
    "\n",
    "[UNIX](https://ncar.github.io/CESM-Tutorial/notebooks/resources/unix.html#unix)\n",
    "    \n",
    "</div>"
   ]
  },
  {
   "cell_type": "markdown",
   "id": "16324ba6-5c27-41c2-8e62-dc2ccc817527",
   "metadata": {},
   "source": [
    "## NCAR HPC"
   ]
  },
  {
   "cell_type": "markdown",
   "id": "e731c34f-4386-4869-bdb7-a6e479f07a63",
   "metadata": {},
   "source": [
    "### Running on Cheyenne"
   ]
  },
  {
   "cell_type": "markdown",
   "id": "202de099-dc2d-47d2-99fb-b6f1b87d654c",
   "metadata": {},
   "source": [
    "This tutorial material has been designed for use with the Cheyenne high-performance computer system. All of your CESM experiment builds and jobs will be run on Cheyenne.\n",
    "\n",
    "Please see the link below for more information about the Cheyenne system, including a quick start guide with information about logging into Cheyenne from a terminal, setting up your environment, submitting jobs, etc. "
   ]
  },
  {
   "cell_type": "markdown",
   "id": "235c1c69-da82-4cff-95bf-02c1bb2db897",
   "metadata": {},
   "source": [
    "<div class=\"alert alert-info\" style=\"text-align: center;\">\n",
    "\n",
    "[CISL Documentation on Using Cheyenne HPC](https://arc.ucar.edu/knowledge_base/70549542)\n",
    "    \n",
    "</div>"
   ]
  },
  {
   "cell_type": "markdown",
   "id": "c7e2b935-85ea-47f1-b8f0-654d54714484",
   "metadata": {},
   "source": [
    "#### Porting"
   ]
  },
  {
   "cell_type": "markdown",
   "id": "a47bc7ae-4bd8-4e55-87e8-27019a689099",
   "metadata": {},
   "source": [
    "While this tutorial assumes you will use NCAR HPC assets, you may want to run CESM on your own machines you will need to port the code. There is information about how to do this in the 'Resources' section."
   ]
  },
  {
   "cell_type": "markdown",
   "id": "8a831d36-6629-4cd6-a247-2a8293aa2561",
   "metadata": {},
   "source": [
    "### Using Casper"
   ]
  },
  {
   "cell_type": "markdown",
   "id": "2f8ad62c-89c5-49c3-9751-219303bce4c7",
   "metadata": {},
   "source": [
    "The Casper cluster is a system of specialized data analysis and visualization resources. Casper is not used for building or running CESM, but it is used for CESM data analysis. We will use Casper only on the diagnostics section of the lab activities. However, to utilize some of the analysis tools described in the \"Resources\" section you will want to use Casper."
   ]
  },
  {
   "cell_type": "markdown",
   "id": "aee2a810-f356-4c55-a19a-c0a32dfd504b",
   "metadata": {},
   "source": [
    "<div class=\"alert alert-info\" style=\"text-align: center;\">\n",
    "\n",
    "[CISL Documentation on Using Casper Cluster](https://arc.ucar.edu/knowledge_base/70549550)\n",
    "    \n",
    "</div>"
   ]
  },
  {
   "cell_type": "markdown",
   "id": "603c963b-4d65-4cd6-94a3-ea5ae932578e",
   "metadata": {},
   "source": [
    "### Using JupyterHub"
   ]
  },
  {
   "cell_type": "markdown",
   "id": "a9423bae-be8c-4848-916c-926f86645da6",
   "metadata": {},
   "source": [
    "The diagnostics secton of this tutorial will use JupyterHub to run Jupyter Notebooks. You will need to log in to the NCAR JupyterHub system to run the notebooks successfully. To run a Jupyter cell, you can just type in the cell, then run it by pressing **shift+return** when in the cell, or alternatively by selecting the cell then clicking the 'play' button up above.\n",
    "\n",
    "To learn more about JupyterHub, please follow the link below."
   ]
  },
  {
   "cell_type": "markdown",
   "id": "6ae8710f-8dd2-4ed6-893f-d2de5b863b94",
   "metadata": {},
   "source": [
    "<div class=\"alert alert-info\" style=\"text-align: center;\">\n",
    "\n",
    "[CISL Documentation about JupyterHub](https://arc.ucar.edu/knowledge_base/70549913)\n",
    "    \n",
    "</div>"
   ]
  },
  {
   "cell_type": "code",
   "execution_count": null,
   "id": "b1bad361-6c3a-46d0-af8e-a69ad0c5f00e",
   "metadata": {},
   "outputs": [],
   "source": []
  }
 ],
 "metadata": {
  "kernelspec": {
   "display_name": "Bash",
   "language": "bash",
   "name": "bash"
  },
  "language_info": {
   "codemirror_mode": "shell",
   "file_extension": ".sh",
   "mimetype": "text/x-sh",
   "name": "bash"
  }
 },
 "nbformat": 4,
 "nbformat_minor": 5
}
