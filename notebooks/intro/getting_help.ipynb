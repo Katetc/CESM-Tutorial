{
 "cells": [
  {
   "cell_type": "markdown",
   "id": "f406f992-92bd-4b17-9bd3-b99c5c8abaf3",
   "metadata": {},
   "source": [
    "# Getting Help\n"
   ]
  },
  {
   "cell_type": "markdown",
   "id": "de6ee277-ec79-4c5f-9cbf-d2901dd20ba3",
   "metadata": {},
   "source": [
    "As you gain experience using and running CESM, you may want additional sources of information to help with problem solving, designing modeling experiments, runtime issues, etc."
   ]
  },
  {
   "cell_type": "markdown",
   "id": "aa8da793-cfa0-472f-980e-6ec0c5478791",
   "metadata": {},
   "source": [
    "## DiscussCESM Forums"
   ]
  },
  {
   "cell_type": "markdown",
   "id": "3dfb2ac3-aeb3-421a-a8ea-636ffe0a61b4",
   "metadata": {},
   "source": [
    "The DiscussCESM or Bulletin Board forum is an excellent location to post questions or to search through previously posted and answered questions in regard to problems encounter while using CESM.\n",
    "\n",
    "Register as a forums user by entering your valid information in the registration form. You can subscribe to forums of interest -- especially the “Announcements” and “Known Problems” -- and this way we can communicate updates to you.\n"
   ]
  },
  {
   "cell_type": "markdown",
   "id": "153bdbd3-d587-4125-8f90-a69496f5f264",
   "metadata": {},
   "source": [
    "<div class=\"alert alert-info\" style=\"text-align: center;\">\n",
    "\n",
    "[DiscussCESM Forum](https://bb.cgd.ucar.edu/cesm/)\n",
    "\n",
    "</div>"
   ]
  },
  {
   "cell_type": "markdown",
   "id": "f5f4bfa4-9482-4e29-8a9b-b4082ae8f452",
   "metadata": {},
   "source": [
    "![Discuss Image](../../images/intro/CESM2_Discuss.png)\n",
    "*<p style=\"text-align: center;\"> Figure: CESM2 Discuss Bulletin Board </p>*"
   ]
  },
  {
   "cell_type": "markdown",
   "id": "2fc2e42c-dcfa-45aa-a16b-c1846590f2f9",
   "metadata": {},
   "source": [
    "## CESM Email Lists"
   ]
  },
  {
   "cell_type": "markdown",
   "id": "a459419f-4e90-4aac-a7f4-13ce597afd1c",
   "metadata": {},
   "source": [
    "There are a number of email lists for the CESM community that you can join to receive updates for the whole CESM community or for particular working groups."
   ]
  },
  {
   "cell_type": "markdown",
   "id": "002db32d-d135-446c-9c01-c6807467ae32",
   "metadata": {},
   "source": [
    "<div class=\"alert alert-info\" style=\"text-align: center;\">\n",
    "\n",
    "[CESM Email lists](https://www.cesm.ucar.edu/about/faqs)\n",
    "\n",
    "</div>"
   ]
  },
  {
   "cell_type": "markdown",
   "id": "47c38994-bf8c-4cf3-8112-9e6b871398de",
   "metadata": {},
   "source": [
    "## CESM Github Alerts"
   ]
  },
  {
   "cell_type": "markdown",
   "id": "df28fe76-4efe-491c-8784-3c4f0fb2fd04",
   "metadata": {},
   "source": [
    "If you create a github account and opt-in, you can watch CESM related repositories."
   ]
  },
  {
   "cell_type": "markdown",
   "id": "909d4342-cfab-40ea-90bc-bf9c713939c5",
   "metadata": {},
   "source": [
    "<div class=\"alert alert-info\" style=\"text-align: center;\">\n",
    "\n",
    "[CESM Github](https://github.com/ESCOMP/CESM)\n",
    "\n",
    "</div>"
   ]
  },
  {
   "cell_type": "markdown",
   "id": "30eb47fb-19c2-4b0a-a0c6-ae412f018ef3",
   "metadata": {},
   "source": [
    "![Discuss Image](../../images/intro/CESM_github.png)\n",
    "*<p style=\"text-align: center;\"> Figure: CESM2 Github Page </p>*"
   ]
  },
  {
   "cell_type": "code",
   "execution_count": null,
   "id": "1dedd34e-f4c7-452d-b31e-b80acc32609a",
   "metadata": {},
   "outputs": [],
   "source": []
  }
 ],
 "metadata": {
  "kernelspec": {
   "display_name": "Python 3 (ipykernel)",
   "language": "python",
   "name": "python3"
  },
  "language_info": {
   "codemirror_mode": {
    "name": "ipython",
    "version": 3
   },
   "file_extension": ".py",
   "mimetype": "text/x-python",
   "name": "python",
   "nbconvert_exporter": "python",
   "pygments_lexer": "ipython3",
   "version": "3.9.12"
  }
 },
 "nbformat": 4,
 "nbformat_minor": 5
}
