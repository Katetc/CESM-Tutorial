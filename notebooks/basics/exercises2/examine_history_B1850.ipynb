{
 "cells": [
  {
   "cell_type": "markdown",
   "id": "f406f992-92bd-4b17-9bd3-b99c5c8abaf3",
   "metadata": {},
   "source": [
    "# Exercise 2.3 Examine History Files\n",
    "\n",
    "Having successfully completed your first month of the new CESM B1850 case you will now examine the history files that have been transfered to the Archive directory. You will be using the NetCDF viewer ncview to look at the monthly average values for the single month. For this exercise you will be looking at the output from the Community Atmospheric Model (CAM) component of CESM, however the ncview tool can be applied to other components such as the Community Land Model (CLM). In this exercise we will:\n",
    "\n",
    "- Step 1. Explore the b.day1.0 Archive directory.\n",
    "- Step 2. Open the b.day1.0 cam h0 in ncview.\n",
    "- Step 3. Examine Average Monthly Surface Temperature.\n",
    "- Step 4. Examine Average Monthly Precipitation.\n",
    "- Step 5. Examine Average Monthly Cloud Fraction.\n",
    "\n",
    "![CESM directories](../../../images/basics/CESM2_Workspaces_Directories.png)\n",
    "*<p style=\"text-align: center;\"> Figure: Directories of the CESM2 Workspace Paths </p>*"
   ]
  },
  {
   "cell_type": "markdown",
   "id": "0c778f29-eacc-4e41-b729-1cb6e45cc65f",
   "metadata": {},
   "source": [
    "# Step 1. Explore the b.day1.0 Archive directory\n",
    "\n",
    "From the previous exercise you can see the Archive directory has a range of model component directories along with the restart (rest) and logs directories. First change directory into the Archive directory and then list the contents of the restart and logs directories. \n",
    "\n",
    "<div class=\"alert alert-info\">\n",
    "<strong>Exercise: Change into the b.day1.0 Archive directory: </strong><br><br>\n",
    "\n",
    "```\n",
    "cd /glade/scratch/$USER/archive/b.day1.0\n",
    "```\n",
    "<br>\n",
    "\n",
    "<strong>Exercise: List the logs directory: </strong><br>\n",
    "\n",
    "```\n",
    "ls -l logs\n",
    "```\n",
    "<br>\n",
    "    \n",
    "This is where all the log files from the model run are kept. <br>\n",
    "\n",
    "<strong>Exercise: List the logs directory: </strong><br>\n",
    "\n",
    "```\n",
    "ls -l rest/0001-02-01-00000\n",
    "```\n",
    "<br>\n",
    "\n",
    "These are the files that CESM will use to restart the model in the next exercise.\n",
    "\n",
    "</div>"
   ]
  },
  {
   "cell_type": "markdown",
   "id": "b7a357a4-fec5-44df-8a2d-db27dd57d9fe",
   "metadata": {},
   "source": [
    "# Step 2. Open the CAM h0 monthly history file\n",
    "\n",
    "You will now use the NetCDF viewer ncview to look at the b.day1.0 case CAM monthly average values for the single month your ran. \n",
    "\n",
    "<div class=\"alert alert-info\">\n",
    "<strong>Exercise: Change into the CAM history directory: </strong><br><br>\n",
    "\n",
    "```\n",
    "cd atm/hist\n",
    "```\n",
    "<br>\n",
    "\n",
    "<strong>Exercise: List the logs directory: </strong><br>\n",
    "\n",
    "```\n",
    "ls -l\n",
    "```\n",
    "<br>\n",
    "    \n",
    "There should be a single file b.day1.0.cam.h0.0001-01.nc.<br>\n",
    "\n",
    "<strong>Exercise: Load the module ncview: </strong><br>\n",
    "\n",
    "```\n",
    "module load ncview\n",
    "```\n",
    "<br>\n",
    "\n",
    "Cheyenne uses modules to provide all of the environment required to run certain applications. Without the module load Cheyenne does not know about ncview.\n",
    "\n",
    "<strong>Exercise: Load the module ncview: </strong><br>\n",
    "\n",
    "```\n",
    "ncview b.day1.0.cam.h0.0001-01.nc &\n",
    "```\n",
    "<br>\n",
    "    \n",
    "If your X11 environment is correctly set up then the ncview tool should appear as shown below on the left. Note the ' &' at the end of the command. This puts the command into the background allowing other tasks to be run from the Cheyenne terminal window. The view on the right shows the ncview application once the Surface Temperature variable has been selected.\n",
    "\n",
    "</div>\n",
    "\n",
    "![NCView App Window](../../../images/basics/NCVIEW_App_Window.png)\n",
    "*<p style=\"text-align: center;\"> Figure: NCView App Window </p>*"
   ]
  },
  {
   "cell_type": "code",
   "execution_count": null,
   "id": "c8297a35-296a-428b-ba02-8f577082952f",
   "metadata": {},
   "outputs": [],
   "source": []
  },
  {
   "cell_type": "code",
   "execution_count": null,
   "id": "ad5c8393-5ed6-4d65-95fe-221fda47537c",
   "metadata": {},
   "outputs": [],
   "source": []
  }
 ],
 "metadata": {
  "kernelspec": {
   "display_name": "Python 3 (ipykernel)",
   "language": "python",
   "name": "python3"
  },
  "language_info": {
   "codemirror_mode": {
    "name": "ipython",
    "version": 3
   },
   "file_extension": ".py",
   "mimetype": "text/x-python",
   "name": "python",
   "nbconvert_exporter": "python",
   "pygments_lexer": "ipython3",
   "version": "3.9.12"
  }
 },
 "nbformat": 4,
 "nbformat_minor": 5
}
