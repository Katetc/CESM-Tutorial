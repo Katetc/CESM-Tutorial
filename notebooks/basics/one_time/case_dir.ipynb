{
 "cells": [
  {
   "cell_type": "markdown",
   "id": "f406f992-92bd-4b17-9bd3-b99c5c8abaf3",
   "metadata": {},
   "source": [
    "# Cases Directory\n"
   ]
  },
  {
   "cell_type": "markdown",
   "id": "8b6de9a7-a234-4afa-aeec-fd1f03ced066",
   "metadata": {},
   "source": [
    "Make a directory where all the cases from this tutorial will be located."
   ]
  },
  {
   "cell_type": "markdown",
   "id": "09e62457-3c80-4221-a353-0f47aa02a024",
   "metadata": {},
   "source": [
    "<div class=\"alert alert-info\">\n",
    "\n",
    "```\n",
    "cd /glade/work/$USER\n",
    "mkdir cases\n",
    "```\n",
    "    \n",
    "</div>\n"
   ]
  }
 ],
 "metadata": {
  "kernelspec": {
   "display_name": "Python 3 (ipykernel)",
   "language": "python",
   "name": "python3"
  },
  "language_info": {
   "codemirror_mode": {
    "name": "ipython",
    "version": 3
   },
   "file_extension": ".py",
   "mimetype": "text/x-python",
   "name": "python",
   "nbconvert_exporter": "python",
   "pygments_lexer": "ipython3",
   "version": "3.9.12"
  }
 },
 "nbformat": 4,
 "nbformat_minor": 5
}
