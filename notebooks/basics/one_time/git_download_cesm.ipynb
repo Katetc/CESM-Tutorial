{
 "cells": [
  {
   "cell_type": "markdown",
   "id": "f406f992-92bd-4b17-9bd3-b99c5c8abaf3",
   "metadata": {},
   "source": [
    "# Download CESM with Git"
   ]
  },
  {
   "cell_type": "markdown",
   "id": "9d121236-47a7-48ef-8b67-40ef3b827178",
   "metadata": {},
   "source": [
    "Having explored the CESM Github pages we are going to return to the Cheyenne terminal window to download the Tutorial branch tag code into your own personal CESM workspace. We will follow three steps below to setup your CESM workspace.\n",
    "\n",
    "Downloading and setting up the Tutorial branch tag is an important step as this will be the code workspace we will be using throughout the rest of the Tutorial. If you have problems here please ask for help."
   ]
  },
  {
   "cell_type": "markdown",
   "id": "07b8b8dd-4c4c-4c77-bf85-0d5253bfaa73",
   "metadata": {},
   "source": [
    "## Step 1. Create Code Workspace Location\n"
   ]
  },
  {
   "cell_type": "markdown",
   "id": "a9529540-70d8-43f4-bf80-983b51dcd372",
   "metadata": {},
   "source": [
    "Returning to your terminal window we will now set up your Code Workspace Location on the Cheyenne glade file system. We will be using your `/glade/work/$USER` location as this is set aside specifically for your use. In all exercises in this tutorial `$USER` is a placeolder and you should use your NCAR HPC login name when completing the exercise.\n",
    "\n",
    "<div class=\"alert alert-info\">\n",
    "<strong>Exercise: Change the current directory to your work directory: </strong><br>\n",
    "\n",
    "```\n",
    "cd /glade/work/$USER\n",
    "```\n",
    "<br>\n",
    "    \n",
    "Note $USER is an environment variable of your username. You can use the environment variable or your username interchangeably.\n",
    "\n",
    "<strong>Exercise: Create the top level code workspace location: </strong><br>\n",
    "\n",
    "```\n",
    "mkdir code\n",
    "```\n",
    "<br>\n",
    "    \n",
    "</div>\n"
   ]
  },
  {
   "cell_type": "markdown",
   "id": "76ef78ca-bb75-4340-996f-04f95233c84f",
   "metadata": {},
   "source": [
    "## Step 2. Download CESM Code with Git Clone\n",
    "\n",
    "First we will change into the Code Workspace location then we will use the Git Clone command to download the code we investigated on Github in the previous exercise.\n",
    "\n",
    "<div class=\"alert alert-info\">\n",
    "<strong>Exercise: Change the current directory to the code workspace directory: </strong><br>\n",
    "\n",
    "```\n",
    "cd /glade/work/$USER/code\n",
    "```\n",
    "<br>\n",
    "    \n",
    "<strong>Exercise: Download the cesm code to your code workspace directory as `my_cesm_code`: </strong><br>\n",
    "For this tutorial, we will download the release version `release-cesm2.1.4`:\n",
    "```\n",
    "git clone https://github.com/ESCOMP/CESM.git my_cesm_code\n",
    "cd my_cesm_code\n",
    "git checkout release-cesm2.1.4\n",
    "```\n",
    "\n",
    "<br>\n",
    "    \n",
    "<strong> Output: </strong><br>\n",
    "```\n",
    "Note: switching to 'release-cesm2.1.4'.\n",
    "\n",
    "You are in 'detached HEAD' state. You can look around, make experimental\n",
    "changes and commit them, and you can discard any commits you make in this\n",
    "state without impacting any branches by switching back to a branch.\n",
    "\n",
    "If you want to create a new branch to retain commits you create, you may\n",
    "do so (now or later) by using -c with the switch command. Example:\n",
    "\n",
    "  git switch -c <new-branch-name>\n",
    "\n",
    "Or undo this operation with:\n",
    "\n",
    "  git switch -\n",
    "\n",
    "Turn off this advice by setting config variable advice.detachedHead to false\n",
    "\n",
    "HEAD is now at 4003996 Fix release number\n",
    "```\n",
    "<br>\n",
    "    \n",
    "If you want to check, which other release versions are available, you can use the command:\n",
    "```\n",
    "git tag --list 'release-cesm2*'    \n",
    "```\n",
    "<br>\n",
    "    \n",
    "<strong> Output: </strong><br>\n",
    "```    \n",
    "release-cesm2.0.0\n",
    "release-cesm2.0.1\n",
    "release-cesm2.1.0\n",
    "release-cesm2.1.1\n",
    "release-cesm2.1.2\n",
    "release-cesm2.1.3\n",
    "release-cesm2.1.4\n",
    "release-cesm2.2.0\n",
    "release-cesm2.2.1\n",
    "```    \n",
    "<br>\n",
    "   \n",
    "    \n",
    "</div>"
   ]
  },
  {
   "cell_type": "markdown",
   "id": "97b726d5-99e6-450d-b494-fd9ddc917284",
   "metadata": {},
   "source": [
    "### Versions"
   ]
  },
  {
   "cell_type": "markdown",
   "id": "cdeef63a-d107-46d2-a89b-d233c8ed13c2",
   "metadata": {},
   "source": [
    "You may find yourself wondering 'what version of the CESM code should I use?' \n",
    "- What versions of the code are supported scientifically or technically?\n",
    "- Things you may want to consider are what sort of model features do you need and what versions of the model are these available in? \n",
    "- If you want to compare your sensitivity experiment against a community experiment (e.g. CESM2-LE) then you should use the same version of the code.\n",
    "\n",
    "\n",
    "More information can be found on the [CESM Models website](https://www.cesm.ucar.edu/models)."
   ]
  },
  {
   "cell_type": "markdown",
   "id": "615c0e7b-5e6c-4352-b1a2-3f8ac03b4b6b",
   "metadata": {},
   "source": [
    "## Step 3. Download the Component Models with checkout_externals\n",
    "\n",
    "The CESM code downloaded with the branch tag does not include all of the code and support for the component models. These are developed and maintained in other Github repositories. To include all of the component models into your code workspace you need to download them as an additional step. The checkout_externals tool is located in manage_externals directory in the `my_cesm_code` code directory.\n",
    "\n",
    "<div class=\"alert alert-info\">\n",
    "<strong>Exercise: Run the `checkout_externals` command to download all the component models: </strong><br>\n",
    "\n",
    "```\n",
    "./manage_externals/checkout_externals\n",
    "```\n",
    "<br>\n",
    "    \n",
    "<strong>Output: </strong><br>\n",
    "where `$USER` will be replaced by your user name\n",
    "```\n",
    "Processing externals description file : Externals.cfg (/glade/work/$USER/code/my_cesm_code)\n",
    "Checking local status of required & optional components: cam, cice, cime, cism, clm, mosart, pop, rtm, ww3, \n",
    "Checking out externals: cime, cam, Processing externals description file : Externals_CAM.cfg (/glade/work/$USER/code/my_cesm_code/components/cam)\n",
    "Checking out externals: chem_proc, carma, clubb, cosp2, \n",
    "cice, cism, Processing externals description file : Externals_CISM.cfg (/glade/work/$USER/code/my_cesm_code/components/cism)\n",
    "Checking out externals: source_cism, \n",
    "clm, Processing externals description file : Externals_CLM.cfg (/glade/work/$USER/code/my_cesm_code/components/clm)\n",
    "Checking out externals: fates, ptclm, \n",
    "mosart, pop, Processing externals description file : Externals_POP.cfg (/glade/work/$USER/code/my_cesm_code/components/pop)\n",
    "Checking out externals: cvmix, marbl, \n",
    "rtm, ww3, \n",
    "```\n",
    "<br>\n",
    "\n",
    "</div>\n",
    "\n",
    "Congratulations you have now downloaded the CESM code component of your workspace!!"
   ]
  },
  {
   "cell_type": "markdown",
   "id": "74d14003-78cc-48e6-bcbc-622f0150dfed",
   "metadata": {},
   "source": [
    "The path `/glade/work/$USER/code/my_cesm_code` is your workspace `SRCROOT`, as described in the [workspaces section](https://ncar.github.io/CESM-Tutorial/notebooks/basics/cesm_workspaces.html#workspace-overview)."
   ]
  },
  {
   "cell_type": "code",
   "execution_count": null,
   "id": "696ba441-c501-4498-b30f-afa0f1a12478",
   "metadata": {},
   "outputs": [],
   "source": []
  }
 ],
 "metadata": {
  "kernelspec": {
   "display_name": "Python 3 (ipykernel)",
   "language": "python",
   "name": "python3"
  },
  "language_info": {
   "codemirror_mode": {
    "name": "ipython",
    "version": 3
   },
   "file_extension": ".py",
   "mimetype": "text/x-python",
   "name": "python",
   "nbconvert_exporter": "python",
   "pygments_lexer": "ipython3",
   "version": "3.9.12"
  }
 },
 "nbformat": 4,
 "nbformat_minor": 5
}
