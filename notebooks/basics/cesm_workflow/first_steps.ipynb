{
 "cells": [
  {
   "cell_type": "markdown",
   "id": "f406f992-92bd-4b17-9bd3-b99c5c8abaf3",
   "metadata": {},
   "source": [
    "# First Steps"
   ]
  },
  {
   "cell_type": "markdown",
   "id": "efcaf0cc-2b3f-49de-8c4e-953464c295ef",
   "metadata": {},
   "source": [
    "Before you start creating cases, make a directory where all the cases will be located."
   ]
  },
  {
   "cell_type": "markdown",
   "id": "40696acf-8c56-4c1b-8fab-f9d1b1d3b2d1",
   "metadata": {},
   "source": [
    "<div class=\"alert alert-info\">\n",
    "\n",
    "```\n",
    "cd /glade/work/$USER\n",
    "mkdir cases\n",
    "```\n",
    "    \n",
    "<br>\n",
    "    \n",
    "</div>\n"
   ]
  }
 ],
 "metadata": {
  "kernelspec": {
   "display_name": "Python 3 (ipykernel)",
   "language": "python",
   "name": "python3"
  },
  "language_info": {
   "codemirror_mode": {
    "name": "ipython",
    "version": 3
   },
   "file_extension": ".py",
   "mimetype": "text/x-python",
   "name": "python",
   "nbconvert_exporter": "python",
   "pygments_lexer": "ipython3",
   "version": "3.9.12"
  }
 },
 "nbformat": 4,
 "nbformat_minor": 5
}
