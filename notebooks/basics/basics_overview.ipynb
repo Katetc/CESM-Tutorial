{
 "cells": [
  {
   "cell_type": "markdown",
   "id": "b2cd974a-dfbb-4937-8ed0-ab87ab60f1ef",
   "metadata": {},
   "source": [
    "# Basics"
   ]
  },
  {
   "cell_type": "markdown",
   "id": "9db9d54e-ef78-44ef-a003-4ddd8a416317",
   "metadata": {},
   "source": [
    "The CESM Model is developed around a structured workflow. Before running, the Workspace must be setup, which is often a one-time task. After set up, at it's simplest CESM can be run with only four commands. This section will cover these steps so that you can complete your first CESM run."
   ]
  },
  {
   "cell_type": "markdown",
   "id": "e2abf5cb-c507-408e-8f2a-2fd12934873d",
   "metadata": {},
   "source": [
    "## Workflow Elements"
   ]
  },
  {
   "cell_type": "markdown",
   "id": "acfe09a5-e3ee-457a-a328-bde665cfe761",
   "metadata": {
    "jp-MarkdownHeadingCollapsed": true,
    "tags": []
   },
   "source": [
    "<div class=\"alert alert-info\" style=\"text-align: left;\">\n",
    "\n",
    "- Set up workspace (one time setup)\n",
    "    - **``Download``** the CESM code\n",
    "    - **``Create or Locate ``** an **``Input Data``** Root Directory\n",
    "    - Possibly require **``Porting``** if not on a setup machine\n",
    "- Creating, Running and Reviewing a Case\n",
    "    - **``Create``** a New Case\n",
    "    - **``Invoke``** case.setup\n",
    "    - **``Build``** the Executable with case.build\n",
    "    - **``Run``** the Model with case.submit\n",
    "    - **``Review``** Output Data\n",
    "\n",
    "</div>"
   ]
  },
  {
   "cell_type": "markdown",
   "id": "0c07b51d-f999-4737-9739-3ea989f20802",
   "metadata": {},
   "source": [
    "## Setting up your environment"
   ]
  },
  {
   "cell_type": "markdown",
   "id": "9d6954eb-3505-4a58-b6fa-bea7047c63cf",
   "metadata": {},
   "source": [
    "Every time you log onto the NCAR HPC you want to ensure you have the correct modules loaded."
   ]
  },
  {
   "cell_type": "markdown",
   "id": "7440f1b8-06af-435a-b1db-d444b99bf846",
   "metadata": {},
   "source": [
    "<div class=\"alert alert-warning\">\n",
    "<strong>NOTE: The section below describes how to use a file that will load necessary modules for those attending the in person tutorial.</strong>\n",
    "</div>"
   ]
  },
  {
   "cell_type": "markdown",
   "id": "e0659adc-463d-4ad3-9117-5da0f1b073ec",
   "metadata": {},
   "source": [
    "Once you perform this set up at the start of the tutorial you should not have to do it again for the remainder of the tutorial. Everytime you login to NCAR HPC these files will automatically be sourced. \n",
    "\n",
    "However, if you intend to use NCAR HPC after the tutorial note that you may need to change your `.profile` or `.tcshrc` file to load the correct modules, project numbers, or queues."
   ]
  },
  {
   "cell_type": "markdown",
   "id": "8e6da3c0-4cbf-42e3-b599-9ef4d1b4a72c",
   "metadata": {},
   "source": [
    "### Check what shell you are using"
   ]
  },
  {
   "cell_type": "markdown",
   "id": "c04124a8-5e76-4104-8d62-7bd0a329ce58",
   "metadata": {},
   "source": [
    "To check what shell you have on NCAR HPC use the following command:"
   ]
  },
  {
   "cell_type": "code",
   "execution_count": null,
   "id": "ef89656d-566b-4de8-a89f-d1d4baa8057b",
   "metadata": {},
   "outputs": [],
   "source": [
    "echo $SHELL"
   ]
  },
  {
   "cell_type": "markdown",
   "id": "91a8addf-1e89-43b9-a364-1e1aa151454d",
   "metadata": {},
   "source": [
    "**NOTE:** All new NCAR HPC accounts default to bash. "
   ]
  },
  {
   "cell_type": "markdown",
   "id": "8c4f6e24-577b-4736-a251-69b51553d704",
   "metadata": {},
   "source": [
    "### Bash users"
   ]
  },
  {
   "cell_type": "markdown",
   "id": "a82c1d5f-eddc-4504-bd66-febd2f3179f8",
   "metadata": {},
   "source": [
    "**NOTE:** You may have a .profile file already present in your home directory. If you have an existing .profile file and do not wish to overwrite it, please copy the contents of the profile file listed below to your .profile file using a text editor."
   ]
  },
  {
   "cell_type": "markdown",
   "id": "9a2baee0-804e-4586-b8fc-a3636c528484",
   "metadata": {},
   "source": [
    "<div class=\"alert alert-info\">\n",
    "To set up your environment for the tutorial, follow the following three steps:<br>\n",
    "\n",
    "1) Move to your home directory:<br>\n",
    "\n",
    "```\n",
    "cd; \n",
    "```\n",
    "<br>\n",
    "\n",
    "2) Copy over the following file:<br>\n",
    " \n",
    "```\n",
    "cp /glade/p/cesm/tutorial/profile ~/.profile\n",
    "```\n",
    "<br>\n",
    "\n",
    "3) Source the file:<br>\n",
    "\n",
    "```\n",
    "source .profile\n",
    "```\n",
    "    \n",
    "</div>\n"
   ]
  },
  {
   "cell_type": "markdown",
   "id": "4daab2a7-58c1-41f0-b51b-c9e8a573574b",
   "metadata": {},
   "source": [
    "### Tcsh users"
   ]
  },
  {
   "cell_type": "markdown",
   "id": "42432d90-eaef-4205-b4fe-39cf3c7b5881",
   "metadata": {},
   "source": [
    "**NOTE:** You should have a .tcshrc file already present in your home directory. If you have an existing .tcshrc file and do not wish to overwrite it, please copy the contents of the /glade/p/cesm/tutorial/tcshrc file to your .tcshrc file using a text editor. "
   ]
  },
  {
   "cell_type": "markdown",
   "id": "a77636dd-1651-431a-a72e-f862947b37a6",
   "metadata": {},
   "source": [
    "<div class=\"alert alert-info\">\n",
    "To set up your environment for the tutorial, follow the following three steps:<br>\n",
    "\n",
    "1) Move to your home directory:<br>\n",
    "\n",
    "```\n",
    "cd; \n",
    "```\n",
    "<br>\n",
    "\n",
    "2) Copy over the following file:<br>\n",
    " \n",
    "```\n",
    "cp /glade/p/cesm/tutorial/tcshrc ~/.tcshrc\n",
    "```\n",
    "    \n",
    "<br>\n",
    "\n",
    "3) Source the file:<br>\n",
    "\n",
    "```\n",
    "source .tcshrc\n",
    "```\n",
    "    \n",
    "</div>\n"
   ]
  },
  {
   "cell_type": "markdown",
   "id": "5edccc8b-0080-4837-aa70-d50360cb2c6c",
   "metadata": {},
   "source": [
    "###\n",
    "**Please ask for help if you are having trouble with this step!**"
   ]
  },
  {
   "cell_type": "code",
   "execution_count": null,
   "id": "523165e7-728b-4305-b9f7-4e6ee530a27d",
   "metadata": {},
   "outputs": [],
   "source": []
  }
 ],
 "metadata": {
  "kernelspec": {
   "display_name": "Python 3 (ipykernel)",
   "language": "python",
   "name": "python3"
  },
  "language_info": {
   "codemirror_mode": {
    "name": "ipython",
    "version": 3
   },
   "file_extension": ".py",
   "mimetype": "text/x-python",
   "name": "python",
   "nbconvert_exporter": "python",
   "pygments_lexer": "ipython3",
   "version": "3.9.12"
  },
  "toc-showcode": false
 },
 "nbformat": 4,
 "nbformat_minor": 5
}
