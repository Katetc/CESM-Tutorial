{
 "cells": [
  {
   "cell_type": "markdown",
   "id": "082bb7b7-5657-4601-8615-4dd2058a4625",
   "metadata": {
    "tags": []
   },
   "source": [
    "# Exercise 1.1 Cheyenne Login\n",
    "\n",
    "This first exercise is to introduce you to the Cheyenne computing system and set up your environment. <br>\n"
   ]
  },
  {
   "cell_type": "markdown",
   "id": "24d4d29e-0fc7-4148-b8f8-c0871e91003d",
   "metadata": {},
   "source": [
    "# Step 1: Review Unix Basics\n",
    "\n",
    "If you are not familiar with the Linux csh environment, then review the reference material with a list of common commands. <br>\n",
    "\n",
    "<div class=\"alert alert-info\">\n",
    "<strong>Exercise: Explore Unix Basics page at: </strong><br><br>\n",
    "\n",
    "[Info on UNIX](https://ncar.github.io/CESM-Tutorial/notebooks/tools/unix_basics.html) <br>\n",
    "\n",
    "</div>\n",
    "\n"
   ]
  },
  {
   "cell_type": "markdown",
   "id": "f4a25131-701e-4d13-aad7-461d1302b84b",
   "metadata": {},
   "source": [
    "# Step 2: Cheyene Login\n",
    "\n",
    "From your tutorial terminal window prompt get online. <br>\n",
    "\n",
    "<div class=\"alert alert-info\">\n",
    "<strong>Exercise: Login to cheyenne: </strong><br><br>\n",
    "\n",
    "```\n",
    "ssh –XY [username]@cheyenne.ucar.edu\n",
    "```\n",
    "\n",
    "</div>\n",
    "\n"
   ]
  },
  {
   "cell_type": "markdown",
   "id": "5b2eda56-b787-4361-b085-262ff5be6a6a",
   "metadata": {},
   "source": [
    "# Step 3: Setup Cheyenne Environment\n",
    "\n",
    "One Time Setup: Check your default login environment settings <br>\n",
    "NOTE: All new tutorial logins default to bash    \n",
    "\n",
    "<div class=\"alert alert-info\">\n",
    "<strong>Exercise for tcsh users: You should have a .tcshrc file already present in your home directory. If you do not, please copy over the following\n",
    "file:</strong><br><br>\n",
    " \n",
    "```\n",
    "cp /glade/p/cesm/tutorial/tcshrc ~/.tcshrc\n",
    "```\n",
    "<br>\n",
    "<strong> Then, change to your home directory and source the file: </strong><br><br>\n",
    "\n",
    "```\n",
    "cd; source .tcshrc\n",
    "```\n",
    "\n",
    "<br>\n",
    "<strong> If you have an existing .tcshrc file and do not wish to overwrite it, please copy the contents of the /glade/p/cesm/tutorial/tcshrc file\n",
    "to your .tcshrc file. </strong>\n",
    "    \n",
    "</div>\n",
    "\n",
    "<div class=\"alert alert-info\">\n",
    "<strong>Exercise for bash users: You may have a .profile file already present in your home directory. If you do not, please copy over the following\n",
    "file</strong><br><br>\n",
    " \n",
    "```\n",
    "cp /glade/p/cesm/tutorial/profile ~/.profile\n",
    "```\n",
    "\n",
    "<br>\n",
    "<strong> Then, change to your home directory and source the file: </strong><br><br>\n",
    "\n",
    "```\n",
    "cd; source .profile\n",
    "```\n",
    "\n",
    "<br>\n",
    "<strong> If you have an existing .profile file and do not wish to overwrite it, please copy the contents of the /glade/p/cesm/tutorial/profile file\n",
    "to your .profile file. </strong>\n",
    "    \n",
    "</div>\n",
    "\n"
   ]
  },
  {
   "cell_type": "code",
   "execution_count": null,
   "id": "dc2f2cc9-e28b-4d38-b261-e482db962f93",
   "metadata": {},
   "outputs": [],
   "source": []
  }
 ],
 "metadata": {
  "kernelspec": {
   "display_name": "Python 3 (ipykernel)",
   "language": "python",
   "name": "python3"
  },
  "language_info": {
   "codemirror_mode": {
    "name": "ipython",
    "version": 3
   },
   "file_extension": ".py",
   "mimetype": "text/x-python",
   "name": "python",
   "nbconvert_exporter": "python",
   "pygments_lexer": "ipython3",
   "version": "3.9.12"
  }
 },
 "nbformat": 4,
 "nbformat_minor": 5
}
