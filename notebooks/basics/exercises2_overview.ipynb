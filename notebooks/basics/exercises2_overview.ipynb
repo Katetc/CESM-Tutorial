{
 "cells": [
  {
   "cell_type": "markdown",
   "id": "8c2d8431-0e66-4597-96bb-858874da9235",
   "metadata": {},
   "source": [
    "# Lab Exercise 2. Overview\n",
    "\n",
    "The second lab exercise is designed to utilize all the information presented in the CESM Workflow to the Workspace that was set up Exercise 1. By then end of this exercise you will have created, setup, updated, built, run, and examined the output of a standard B1850 control case.\n",
    "\n",
    "<div class=\"alert alert-info\" style=\"text-align: left;\">\n",
    "<h1> Lab Exercise Outline: </h1>\n",
    "\n",
    "- 2.1 Create, Setup, Update, and Build B1850 Case.\n",
    "- 2.2 Submit and Monitor B1850 Case.\n",
    "- 2.3 Examine history files.\n",
    "- 2.4 Update and Resubmit B1850 Case.\n",
    "- 2.5 Examine history files.\n",
    "- 2.6 Clone B1850 Case to a new Case.\n",
    "- 2.7 Additional Exercises.\n",
    "    \n",
    "</div>"
   ]
  },
  {
   "cell_type": "markdown",
   "id": "89b36bf1-182b-4460-af55-6f05b7a4a086",
   "metadata": {},
   "source": []
  }
 ],
 "metadata": {
  "kernelspec": {
   "display_name": "Python 3 (ipykernel)",
   "language": "python",
   "name": "python3"
  },
  "language_info": {
   "codemirror_mode": {
    "name": "ipython",
    "version": 3
   },
   "file_extension": ".py",
   "mimetype": "text/x-python",
   "name": "python",
   "nbconvert_exporter": "python",
   "pygments_lexer": "ipython3",
   "version": "3.9.12"
  }
 },
 "nbformat": 4,
 "nbformat_minor": 5
}
