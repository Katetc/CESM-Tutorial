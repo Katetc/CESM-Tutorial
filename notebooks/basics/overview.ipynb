{
 "cells": [
  {
   "cell_type": "markdown",
   "id": "167f1d44-d85e-45fc-a905-a670373638ca",
   "metadata": {
    "tags": []
   },
   "source": [
    "# Overview of CESM Basics \n",
    "\n",
    "Welcome to the world of the **Community Earth System Model (CESM)**. CESM is a coupled climate model for simulating Earth’s climate system. \n",
    "The model is composed of separate models that simultaneously simulate the Earth’s atmosphere, ocean, land, river run-off, land-ice, and sea-ice.\n",
    "In this section you will be introduced to the Basics behind CESM workspaces, component models, coupling, code, running, \n",
    "and archiving the results of CESM model simulations. Specifically we will cover the steps of:\n",
    "\n",
    "<div class=\"alert alert-info\" style=\"text-align: left;\">\n",
    "<h1> Outline: </h1>\n",
    "\n",
    "- The CESM **``Project Webpage``**\n",
    "- The CESM2 **``Model Webpage``**\n",
    "- CESM2 **``Component Models``** and **``Coupling``**\n",
    "- The CESM2 **``Quickstart Guide``**\n",
    "- **``Downloading``** CESM2\n",
    "- **``CIME``** and the **``Case Control System``**\n",
    "- **``Creating & Running``** a **``Case``**\n",
    "- Getting More **``Help``**\n",
    "    \n",
    "</div>"
   ]
  },
  {
   "cell_type": "markdown",
   "id": "160f7624-e77b-49d8-a56b-50d7e9cb4842",
   "metadata": {},
   "source": [
    "# CESM Project Web Page\n",
    "\n",
    "The **CESM Web Page** is the first point of reference for all things CESM. Here we can explore the larger CESM project, delve deeper into individual working groups, models, research activities, model releases, supporting model data, tools, events and much much more. <br>\n",
    "Click here to start your CESM exploration <br>\n",
    "<a href=\"http://www.cesm.ucar.edu\"> http://www.cesm.ucar.edu </a>\n",
    "\n",
    "<div class=\"alert alert-info\" style=\"text-align: left;\">\n",
    "<h1> Take-away points: </h1>\n",
    "    \n",
    "- CESM **``Project``** Information\n",
    "- **``Working Groups``** Information\n",
    "- **``Community Projects``** Information\n",
    "    - CESM2 Large Ensemble\n",
    "    - CESM2 Stratospheric Aerosol Injection (ARISE-SAI)\n",
    "- What **``Version``** of the model should you use?\n",
    "- **``Individual Model``** Pages <a href=\"https://www.cesm.ucar.edu/models/\"> https://www.cesm.ucar.edu/models/ </a>\n",
    "- **``Supported Model``** Releases – 2.1.X vs 2.2.X\n",
    "- **``Experiments``**, expand a case for details, diagnostics plots for many experiments\n",
    "\n",
    "</div>\n"
   ]
  },
  {
   "cell_type": "markdown",
   "id": "f407a208-b11e-4f52-9c18-be99113bcfb3",
   "metadata": {},
   "source": [
    "# CESM2 Web Page\n",
    "\n",
    "For information specific to the CESM version 2 Model there is a dedicated **CESM2 Web Page**. This page can be found under models on the CESM Project Web Page.\n",
    "The CESM Web Page details release information, downloading instructions, scientifically validated configuration, documentation and more. <br>\n",
    "Click here to start your CESM2 exploration: <br>\n",
    "<a href=\"http://www.cesm.ucar.edu/models/cesm2\"> http://www.cesm.ucar.edu/models/cesm2 </a>\n",
    "\n",
    "<div class=\"alert alert-info\" style=\"text-align: left;\">\n",
    "<h1> Take-away points: </h1>\n",
    "    \n",
    "- **``Release Series``** Information Notes and Supported **``Tags**``\n",
    "- **``Downloading``** Instructions - No User Registration Required\n",
    "- CESM2.2 **``Scientifically Validated``** Component Set Configurations\n",
    "- **``Online Documentation``** – Quickstart, CIME, drop-down version choice\n",
    "- **``Prognostic Component``** Details and Documentation\n",
    "    - **``Namelist``** and **``Caseroot``** Definitions -\n",
    "<a href=\"https://www.cesm.ucar.edu/models/cesm2/settings/current/\"> https://www.cesm.ucar.edu/models/cesm2/settings/current/ </a> \n",
    "\n",
    "</div>\n",
    "\n"
   ]
  },
  {
   "cell_type": "markdown",
   "id": "46d44255-b2d5-4a25-b3a5-1288723e7e2e",
   "metadata": {},
   "source": [
    "# CESM2 Components\n",
    "\n",
    "The CESM2 Model is comprised of 7 **Prognostic** or otherwise known as **Active** Components that are coupled through the Common Infrastructure for \n",
    "Modeling the Earth known as **CIME**. Each model component is detailed on the CESM2 Web Page. \n",
    "The models each have a page containing descriptions and documentation for active or prognostic models. You can explore each of the component models and CIME from \n",
    "the links below.\n",
    "\n",
    "<div class=\"alert alert-info\" style=\"text-align: left;\">\n",
    "<h1> Component Links: </h1>\n",
    "    \n",
    "- <a href=\"https://www.cesm.ucar.edu/models/cesm2/atmosphere\"> **``Atmosphere``** </a>\n",
    "- <a href=\"https://www.cesm.ucar.edu/models/cesm2/land\"> **``Land``** </a>\n",
    "- <a href=\"https://www.cesm.ucar.edu/models/cesm2/land-ice\"> **``Land Ice``** </a>\n",
    "- <a href=\"https://www.cesm.ucar.edu/models/cesm2/ocean\" > **``Ocean``** </a>\n",
    "- <a href=\"https://www.cesm.ucar.edu/models/cesm2/river\" > **``River Runoff``** </a>\n",
    "- <a href=\"https://www.cesm.ucar.edu/models/cesm2/sea-ice\" > **``Sea Ice``** </a>\n",
    "- <a href=\"https://www.cesm.ucar.edu/models/cesm2/wave\" > **``Wave``** </a>\n",
    "- <a href=\"https://esmci.github.io/cime/versions/master/html/index.html\" > **``CIME``** </a>\n",
    "    \n",
    "</div>"
   ]
  },
  {
   "cell_type": "markdown",
   "id": "c1e4dbdb-2f71-4451-8f31-95abe5b29d9a",
   "metadata": {},
   "source": [
    "# CESM2 Common Infrastructure for Modeling the Earth (CIME)\n",
    "\n",
    "The Common Infrastructure for Modeling the Earth is a python-based framework that is shared between CESM2 and other modeling center efforts to ensure efficient \n",
    "coordination of model development. The schema below shows some of the science benefits and organizations that are using the CIME infrastructure. \n",
    "<br><br>\n",
    "\n",
    "![CESM directories and namelists](../../images/basics/CESM2_CIME_Infrastructure.png)\n",
    "*<p style=\"text-align: center;\"> Figure: Overview of the CESM2 Common Infrastructure for Modeling the Earth (CIME) </p>*\n",
    "\n"
   ]
  },
  {
   "cell_type": "markdown",
   "id": "a1b29f6e-8b47-4808-aa9d-fe546f855a31",
   "metadata": {},
   "source": [
    "# CESM2 Coupling\n",
    "\n",
    "The CESM2 coupling is performed through the Model Coupling Toolkit (MCT). Additionally, the MCT coupling framework allows data and stub components to \n",
    "replace active or prognostic components providing flexible activation/deactivation of feedbacks. \n",
    "The schematic below shows all of the components and their connections.\n",
    "<br><br>\n",
    "\n",
    "![CESM directories and namelists](../../images/basics/CESM2_MCT_Coupling.png)\n",
    "*<p style=\"text-align: center;\"> Figure: Overview of the CESM2 Components and Model Coupling Toolkit (MCT) </p>*\n",
    "\n"
   ]
  },
  {
   "cell_type": "markdown",
   "id": "ae02f00e-6dd1-48bf-a27d-80531cc5ac3f",
   "metadata": {},
   "source": [
    "# New Earth System Modeling Framework (ESMF) Coupling for beyond CESM2\n",
    "\n",
    "Development beyond the CESM2 MCT coupling framework is changing to the Earth System Modeling Framework (ESMF) \n",
    "National Unified Operational Prediction Capability (NUOPC) framework. More details on NUOPC can be found at \n",
    "<a href=\"https://earthsystemmodeling.org/nuopc/\"> https://earthsystemmodeling.org/nuopc/ </a>. The schema below shows the new CESM \n",
    "configuration and coupling with NUOPC. This is included for information only as the CESM2 used in this tutorial does not use this new framework. \n",
    "<br><br>\n",
    "\n",
    "![CESM directories and namelists](../../images/basics/CESM_NUOPC_Coupling.png)\n",
    "*<p style=\"text-align: center;\"> Figure: Overview of the new CESM Components and National Unified Operational Prediction Capability (NUOPC) framework </p>*\n",
    "\n"
   ]
  },
  {
   "cell_type": "markdown",
   "id": "071cf5c3-8e6e-4ae8-9c12-adce51654ac8",
   "metadata": {},
   "source": [
    "# CESM2 Quickstart Workflow\n",
    "\n",
    "The CESM2 Workflow is documented in the CESM2 Introduction \n",
    "<a href=\"https://escomp.github.io/CESM/release-cesm2/\"> https://escomp.github.io/CESM/release-cesm2/ </a> \n",
    " and CIME <a href=\"https://esmci.github.io/cime/versions/master/html/index.html\"> https://esmci.github.io/cime/versions/master/html/index.html </a>\n",
    "documentation pages. These pages are a guide for both novice and experienced users on the work flow steps for downloading, building and running CESM2. \n",
    "These steps will form the basis of the remaining elements of this practical session. \n",
    "Specifically we will be covering the Workflow below over the remaining workbooks. \n",
    "\n",
    "\n",
    "<div class=\"alert alert-info\" style=\"text-align: left;\">\n",
    "<h1> Workflow Elements: </h1>\n",
    " \n",
    "- One-Time Setup Steps\n",
    "    - **``Download``** the CESM code\n",
    "    - **``Create``** an **``Input Data``** Root Directory\n",
    "    - **``Porting``**\n",
    "- Creating and Running a Case\n",
    "    - **``Create``** a New Case\n",
    "    - **``Invoke``** case.setup\n",
    "    - **``Build``** the Executable with case.build\n",
    "    - **``Run``** the Model with case.submit\n",
    "    - **``Review``** Output Data\n",
    "\n",
    "</div>"
   ]
  },
  {
   "cell_type": "code",
   "execution_count": null,
   "id": "8751a53a-33ea-4944-af24-674d1b93f451",
   "metadata": {},
   "outputs": [],
   "source": []
  }
 ],
 "metadata": {
  "kernelspec": {
   "display_name": "Python 3 (ipykernel)",
   "language": "python",
   "name": "python3"
  },
  "language_info": {
   "codemirror_mode": {
    "name": "ipython",
    "version": 3
   },
   "file_extension": ".py",
   "mimetype": "text/x-python",
   "name": "python",
   "nbconvert_exporter": "python",
   "pygments_lexer": "ipython3",
   "version": "3.9.12"
  }
 },
 "nbformat": 4,
 "nbformat_minor": 5
}
