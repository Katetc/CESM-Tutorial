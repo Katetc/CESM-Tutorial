{
 "cells": [
  {
   "cell_type": "markdown",
   "id": "f9dac1fe-df62-4560-adf5-2779d9ed8f2d",
   "metadata": {},
   "source": [
    "# CASEROOT Directory\n",
    "\n"
   ]
  },
  {
   "cell_type": "markdown",
   "id": "0486aaf8-a0d6-4ec9-b950-09ef5f0d1d8d",
   "metadata": {},
   "source": [
    "After running `./create_newcase` look in your case directory to become familiar with the structure. Note there are scripts (e.g. case.setup, case.submit, etc.), xml files, etc. We will delve into these in more detail in future sections of the tutorial."
   ]
  },
  {
   "cell_type": "code",
   "execution_count": null,
   "id": "a02852b9-dc98-4881-b323-246f7e18350b",
   "metadata": {},
   "outputs": [],
   "source": []
  },
  {
   "cell_type": "markdown",
   "id": "2eee92ba-a07f-466e-9030-d79f9f513fc7",
   "metadata": {},
   "source": [
    "![Case Root Image](../../../images/basics/CESM2_Case_Root.png)"
   ]
  },
  {
   "cell_type": "code",
   "execution_count": null,
   "id": "1a9e31df-e2a9-4f12-8db3-f9ad97592faf",
   "metadata": {},
   "outputs": [],
   "source": []
  }
 ],
 "metadata": {
  "kernelspec": {
   "display_name": "Python 3 (ipykernel)",
   "language": "python",
   "name": "python3"
  },
  "language_info": {
   "codemirror_mode": {
    "name": "ipython",
    "version": 3
   },
   "file_extension": ".py",
   "mimetype": "text/x-python",
   "name": "python",
   "nbconvert_exporter": "python",
   "pygments_lexer": "ipython3",
   "version": "3.9.12"
  }
 },
 "nbformat": 4,
 "nbformat_minor": 5
}
