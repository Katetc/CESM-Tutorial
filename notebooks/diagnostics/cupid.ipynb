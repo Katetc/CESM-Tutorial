{
 "cells": [
  {
   "cell_type": "markdown",
   "id": "6cbe06f3-0299-4db3-a02e-d4b27ffbd27e",
   "metadata": {},
   "source": [
    "# CUPiD"
   ]
  },
  {
   "cell_type": "markdown",
   "id": "3c0aaa4a-ebf0-4c3c-a045-ee58d183ce45",
   "metadata": {},
   "source": [
    "The CESM Unified Postprocessing and Diagnostics (CUPiD) package is a new python-based system for running diagnostics across all CESM components with a common user and developer interface.\n",
    "This notebook is a chance to try out CUPiD and run it on your own model simulation.  Note that the underlying python code is very similar to the routines shown in the component-specific diagnostics, which is why we recommend trying those notebooks first.  Additional info, including the source code, can be found on [Github here](https://github.com/NCAR/CUPiD)."
   ]
  },
  {
   "cell_type": "markdown",
   "id": "d5f923bd-6d73-4e60-ac49-8295c96e585c",
   "metadata": {},
   "source": [
    "**BEFORE BEGINNING THIS EXERCISE** -  Check that your kernel (upper right corner, above) is `Bash`. This should be the default kernel, but if it is not, click on that button and select `Bash`."
   ]
  },
  {
   "cell_type": "markdown",
   "id": "4ac4bcb0-3b7c-488b-85d5-9c3c3802ab4e",
   "metadata": {},
   "source": [
    "CUPiD is currently a command line tool.  This means that instead of running python code directly, this notebook will run unix commands CUPiD provides in order to generate the relevant diagnostics.  To start, we need to clone CUPiD from Github:"
   ]
  },
  {
   "cell_type": "code",
   "execution_count": 1,
   "id": "9bdbabd9-4479-440f-9f82-c97f57da3e90",
   "metadata": {
    "scrolled": true
   },
   "outputs": [
    {
     "name": "stdout",
     "output_type": "stream",
     "text": [
      "Cloning into 'CUPiD'...\n",
      "remote: Enumerating objects: 1137, done.        \n",
      "remote: Counting objects: 100% (429/429), done.        \n",
      "remote: Compressing objects: 100% (206/206), done.        \n",
      "remote: Total 1137 (delta 263), reused 282 (delta 214), pack-reused 708        \n",
      "Receiving objects: 100% (1137/1137), 3.32 MiB | 9.98 MiB/s, done.\n",
      "Resolving deltas: 100% (656/656), done.\n",
      "Submodule 'manage_externals' (https://github.com/ESMCI/manage_externals.git) registered for path 'manage_externals'\n",
      "Cloning into '/glade/u/home/nusbaume/CESM_tutorials/2024/CESM-Tutorial/notebooks/diagnostics/CUPiD/manage_externals'...\n",
      "remote: Enumerating objects: 1868, done.        \n",
      "remote: Counting objects: 100% (178/178), done.        \n",
      "remote: Compressing objects: 100% (78/78), done.        \n",
      "remote: Total 1868 (delta 103), reused 116 (delta 97), pack-reused 1690        \n",
      "Receiving objects: 100% (1868/1868), 857.16 KiB | 4.46 MiB/s, done.\n",
      "Resolving deltas: 100% (1129/1129), done.\n",
      "Submodule path 'manage_externals': checked out '0f884bfec8e43d0c02261de858d6ec3f6d855e51'\n"
     ]
    }
   ],
   "source": [
    "#Delete old CUPiD directory if one exists:\n",
    "if [ -d \"CUPiD\" ]; then\n",
    "  rm -rf CUPiD\n",
    "fi\n",
    "\n",
    "#Clone CUPiD source code from Github repo:\n",
    "git clone --recurse-submodules https://github.com/NCAR/CUPiD.git\n",
    "cd CUPiD #Need to enter CUPiD directory for remaining commands"
   ]
  },
  {
   "cell_type": "markdown",
   "id": "efc83e39-b35d-4dd5-9411-7737ac648375",
   "metadata": {},
   "source": [
    "We'll also need to grab some external libraries, which is done the same way as CESM via `checkout_externals`:"
   ]
  },
  {
   "cell_type": "code",
   "execution_count": 2,
   "id": "13f43abf-a7cd-40fb-a55b-e68781282162",
   "metadata": {},
   "outputs": [
    {
     "name": "stdout",
     "output_type": "stream",
     "text": [
      "Processing externals description file : Externals.cfg (/glade/u/home/nusbaume/CESM_tutorials/2024/CESM-Tutorial/notebooks/diagnostics/CUPiD)\n",
      "Checking local status of required & optional components: adf, mom6-tools, \n",
      "Checking out externals: adf, mom6-tools, \n",
      "\n"
     ]
    }
   ],
   "source": [
    "./manage_externals/checkout_externals"
   ]
  },
  {
   "cell_type": "markdown",
   "id": "e30ceb39-d434-4520-a29b-e23343f633e0",
   "metadata": {},
   "source": [
    "This downloads two additional diagnostics packages that CUPiD will use.  One is the [AMWG Diagnostics Framework (ADF)](https://github.com/NCAR/ADF), which is a command-line tool that can be used to generate CAM diagnostics, and [mom6-tools](https://github.com/NCAR/mom6-tools.git), which is a python package that can be used to analyze MOM6, which is the ocean model that will be used in CESM3 (but for this tutorial we'll ignore)."
   ]
  },
  {
   "cell_type": "markdown",
   "id": "5b3c7314-4a6d-40a8-92b0-d3953335a0a6",
   "metadata": {},
   "source": [
    "Next we need to setup the proper python environment using conda/mamba, and activate the `cupid-dev` environment:"
   ]
  },
  {
   "cell_type": "code",
   "execution_count": 16,
   "id": "d105bb3b-84bf-4e87-a6ab-8c2e8b40b57a",
   "metadata": {},
   "outputs": [
    {
     "name": "stdout",
     "output_type": "stream",
     "text": [
      "(cupid-dev) (cupid-dev) (cupid-dev) (cupid-dev) (cupid-dev) (cupid-dev) (cupid-dev) (cupid-dev) (cupid-dev) (cupid-dev) (cupid-dev) (cupid-dev) (cupid-dev) (cupid-dev) /glade/work/nusbaume/conda-envs/cupid-dev/bin/cupid-run\n",
      "(cupid-dev) Obtaining file:///glade/u/home/nusbaume/CESM_tutorials/2024/CESM-Tutorial/notebooks/diagnostics/CUPiD/examples/cesm_tutorial\n",
      "\u001b[31mERROR: file:///glade/u/home/nusbaume/CESM_tutorials/2024/CESM-Tutorial/notebooks/diagnostics/CUPiD/examples/cesm_tutorial does not appear to be a Python project: neither 'setup.py' nor 'pyproject.toml' found.\u001b[0m\u001b[31m\n",
      "\u001b[0m(cupid-dev) "
     ]
    },
    {
     "ename": "",
     "evalue": "1",
     "execution_count": 16,
     "output_type": "error",
     "traceback": []
    }
   ],
   "source": [
    "#Load conda to your environment:\n",
    "module load conda\n",
    "\n",
    "#Install 'cupid-dev' environment if it doesn't already exist:\n",
    "if ! { conda env list | grep 'cupid-dev'; } >/dev/null 2>&1; then\n",
    "  mamba env create -f environments/dev-environment.yml\n",
    "fi\n",
    "\n",
    "#Install 'cupid-analysis' environment if ti doesn't already exist:\n",
    "if ! { conda env list | grep 'cupid-analysis'; } >/dev/null 2>&1; then\n",
    "  mamba env create -f environments/cupid-analysis.yml\n",
    "fi\n",
    "\n",
    "#Activate CUPiD conda environemnt:\n",
    "conda activate cupid-dev\n",
    "#NOTE: You may see a red \": 1\" message below, but it can be ignored.\n",
    "\n",
    "#Check that cupid-run can be accessed appropriately:\n",
    "which cupid-run\n",
    "if ! [ $? -ne 0 ]; then\n",
    "  #If not then use pip to install:\n",
    "  pip install -e .\n",
    "fi"
   ]
  },
  {
   "cell_type": "markdown",
   "id": "aa3bd9bc-fd0c-44d5-b80a-14a509d7ffb4",
   "metadata": {},
   "source": [
    "CUPiD is controlled via a config YAML file.  Here we create a new directory and write the relevant config file for our tutorial simulation.  Please note that if your tutorial simulations didn't finish then you can use the provided simulations instead:   "
   ]
  },
  {
   "cell_type": "code",
   "execution_count": 24,
   "id": "f515b255-d9a0-4dc6-87d3-95c34a2e2f0a",
   "metadata": {
    "scrolled": true
   },
   "outputs": [
    {
     "name": "stdout",
     "output_type": "stream",
     "text": [
      "(cupid-dev) (cupid-dev) (cupid-dev) (cupid-dev) "
     ]
    },
    {
     "ename": "",
     "evalue": "1",
     "execution_count": 24,
     "output_type": "error",
     "traceback": []
    }
   ],
   "source": [
    "#cd examples         #Go to the examples directory\n",
    "#mkdir cesm_tutorial #Make a new directory to hold our config file\n",
    "#cd cesm_tutorial    #Go to newly made CESM tutorial example directory\n",
    "cat << EOF > config.yml\n",
    "################## SETUP ##################\n",
    "\n",
    "#NOTE:  CUPiD ocean diagnostics are currently only designed for upcoming MOM6\n",
    "#       ocean model, so for this tutorial we will only do example atmosphere,\n",
    "#       land, and sea ice diagnostics.\n",
    "\n",
    "################\n",
    "# Data Sources #\n",
    "################\n",
    "data_sources:\n",
    "    # sname is any string used as a nickname for this configuration. It will be\n",
    "    ### used as the name of the folder your computed notebooks are put in\n",
    "    sname: cesm_tutorial_quick_run\n",
    "\n",
    "    # run_dir is the path to the folder you want\n",
    "    ### all the files associated with this configuration\n",
    "    ### to be created in\n",
    "    run_dir: .\n",
    "\n",
    "    # nb_path_root is the path to the folder that cupid will\n",
    "    ### look for your template notebooks in. It doesn't have to\n",
    "    ### be inside run_dir, or be specific to this project, as\n",
    "    ### long as the notebooks are there\n",
    "    nb_path_root: ../nblibrary\n",
    "\n",
    "######################\n",
    "# Computation Config #\n",
    "######################\n",
    "\n",
    "computation_config:\n",
    "\n",
    "    # default_kernel_name is the name of the environment that\n",
    "    ### the notebooks in this configuration will be run in by default.\n",
    "    ### It must already be installed on your machine. You can also\n",
    "    ### specify a different environment than the default for any\n",
    "    ### notebook in NOTEBOOK CONFIG\n",
    "\n",
    "    default_kernel_name: cupid-analysis\n",
    "\n",
    "############# NOTEBOOK CONFIG #############\n",
    "\n",
    "############################\n",
    "# Notebooks and Parameters #\n",
    "############################\n",
    "\n",
    "# All parameters under global_params get passed to all the notebooks\n",
    "\n",
    "global_params:\n",
    "  #CESM_output_dir: /glade/derecho/scratch/USERNAME/archive  #<-Replace \"USERNAME\" with your own username\n",
    "  #Uncomment code here if you need a complete CESM tutorial simulation:\n",
    "  CESM_output_dir: /glade/campaign/cesm/tutorial/tutorial_2023_archive\n",
    "  lc_kwargs:\n",
    "    threads_per_worker: 1\n",
    "\n",
    "timeseries:\n",
    "  # This section of the config file controls the time series generator, which\n",
    "  # takes standard CESM history (time-slice) files and converts them into single\n",
    "  # variable time series files.\n",
    " \n",
    "  num_procs: 8\n",
    "  ts_done: [False]\n",
    "  overwrite_ts: [False]\n",
    "  #ts_output_dir: /glade/derecho/scratch/USERNAME/archive #<-Replace \"USERNAME\" with your own username\n",
    "  ts_output_dir: /glade/derecho/scratch/nusbaume/archive\n",
    "  case_name: 'b.day2.1'\n",
    "\n",
    "  #Variables can either be provided as a list (e.g. ['X', 'Y', 'Z']) or,\n",
    "  #if you want to convert everything on the file, by using the ['process_all']\n",
    "  #keyword.  For the example below we'll only convert a single variable\n",
    "  #from each component.\n",
    "\n",
    "  atm:\n",
    "    vars: ['TREFHT']\n",
    "    derive_vars: []\n",
    "    hist_str: 'h0'\n",
    "    start_years: [1]\n",
    "    end_years: [3]\n",
    "    level: 'lev'\n",
    "\n",
    "  lnd:\n",
    "    vars: ['ALTMAX']\n",
    "    derive_vars: []\n",
    "    hist_str: 'h0'\n",
    "    start_years: [1]\n",
    "    end_years: [3]\n",
    "    level: 'lev'\n",
    "\n",
    "  ocn:\n",
    "    vars: [] # Not doing ocean analyses\n",
    "    derive_vars: []\n",
    "    hist_str: 'h'\n",
    "    start_years: [1]\n",
    "    end_years: [3]\n",
    "    level: 'lev'\n",
    "\n",
    "  ice:\n",
    "    vars: ['hi']\n",
    "    derive_vars: []\n",
    "    hist_str: 'h'\n",
    "    start_years: [1]\n",
    "    end_years: [3]\n",
    "    level: 'lev'\n",
    "\n",
    "  glc:\n",
    "    vars: ['usurf']\n",
    "    derive_vars: []\n",
    "    hist_str: 'initial_hist'\n",
    "    start_years: [1]\n",
    "    end_years: [3]\n",
    "    level: 'lev'\n",
    "\n",
    "compute_notebooks:\n",
    "\n",
    "  # This is where all the notebooks you want run and their\n",
    "  # parameters are specified. Several examples of different\n",
    "  # types of notebooks are provided.\n",
    "\n",
    "  # This section controls the actual diagnostics calculations.\n",
    "  # In practice one would usually compare the model simulation\n",
    "  # to a baseline run, or possibly to observations.  However,\n",
    "  # given that in this tutorial we only have one \"long\" run,\n",
    "  # we'll go ahead and compare it to itself.\n",
    "\n",
    "    infrastructure:\n",
    "      index:\n",
    "        parameter_groups:\n",
    "          none: {}\n",
    "\n",
    "  #  atm:\n",
    "  #    adf_quick_run:\n",
    "  #      parameter_groups:\n",
    "  #        none:\n",
    "  #          adf_path: ../../../externals/ADF\n",
    "  #          config_path: /glade/campaign/cesm/tutorial/cupid_nbs/\n",
    "  #          config_fil_str: \"config_f.cam6_3_119.FLTHIST_ne30.r328_gamma0.33_soae.001.yaml\"\n",
    "\n",
    "    lnd:\n",
    "      land_comparison:\n",
    "        parameter_groups:\n",
    "          none:\n",
    "            cases:\n",
    "              - b.day2.1\n",
    "              - b.day2.1\n",
    "            type:\n",
    "              - b.day2.1\n",
    "              - b.day2.1\n",
    "\n",
    "    ice:\n",
    "      seaice:\n",
    "        parameter_groups:\n",
    "          none:\n",
    "            cases:\n",
    "              - b.day2.1\n",
    "              - b.day2.1\n",
    "            begyr1: 1\n",
    "            endyr1: 3\n",
    "            begyr2: 1\n",
    "            endyr2: 3\n",
    "            nyears: 3\n",
    "\n",
    "########### JUPYTER BOOK CONFIG ###########\n",
    "\n",
    "##################################\n",
    "# Jupyter Book Table of Contents #\n",
    "##################################\n",
    "book_toc:\n",
    "\n",
    "  # See https://jupyterbook.org/en/stable/structure/configure.html for\n",
    "  # complete documentation of Jupyter book construction options\n",
    "\n",
    "  format: jb-book\n",
    "\n",
    "  # All filenames are notebook filename without the .ipynb, similar to above\n",
    "\n",
    "  root: infrastructure/index # root is the notebook that will be the homepage for the book\n",
    "  parts:\n",
    "\n",
    "    # Parts group notebooks into different sections in the Jupyter book\n",
    "    # table of contents, so you can organize different parts of your project.\n",
    "\n",
    "#    - caption: Atmosphere\n",
    "\n",
    "      # Each chapter is the name of one of the notebooks that you executed\n",
    "      # in compute_notebooks above, also without .ipynb\n",
    "#      chapters:\n",
    "#        - file: atm/adf_quick_run\n",
    "\n",
    "    - caption: Land\n",
    "      chapters:\n",
    "        - file: lnd/land_comparison\n",
    "\n",
    "    - caption: Sea Ice\n",
    "      chapters:\n",
    "        - file: ice/seaice\n",
    "\n",
    "#####################################\n",
    "# Keys for Jupyter Book _config.yml #\n",
    "#####################################\n",
    "book_config_keys:\n",
    "\n",
    "  title: CESM Tutorial - CUPiD  # Title of your jupyter book\n",
    "\n",
    "  # Other keys can be added here, see https://jupyterbook.org/en/stable/customize/config.html\n",
    "  ### for many more options   \n",
    "EOF"
   ]
  },
  {
   "cell_type": "markdown",
   "id": "97f47be7-8f20-4b98-844c-5d067056df42",
   "metadata": {},
   "source": [
    "Now we are ready to run CUPiD!"
   ]
  },
  {
   "cell_type": "markdown",
   "id": "27ed4c0c-f6ee-48a2-b264-2a2e58744f82",
   "metadata": {},
   "source": [
    "## Generating time series and running diagnostics"
   ]
  },
  {
   "cell_type": "markdown",
   "id": "22ab4b4f-e69c-40ea-a9f4-1455218a858c",
   "metadata": {},
   "source": [
    "One of CUPiD's functions is to help convert CESM history files into single-variable time series files, which are required for various different diagnostic systems, as well for submitting to CMIP.\n",
    "Here we can create some time series files from the tutorial simulation using the config file we just created above and the `-ts` flag.  After time-series generation is done it will run the example notebooks specified in the config file to create "
   ]
  },
  {
   "cell_type": "code",
   "execution_count": 25,
   "id": "264e578e-2d77-48ec-afd5-3a87ac8989cc",
   "metadata": {},
   "outputs": [
    {
     "name": "stdout",
     "output_type": "stream",
     "text": [
      "/glade/work/nusbaume/conda-envs/cupid-dev/bin/cupid-run\n",
      "(cupid-dev) 0\n",
      "(cupid-dev) "
     ]
    },
    {
     "ename": "",
     "evalue": "1",
     "execution_count": 25,
     "output_type": "error",
     "traceback": []
    }
   ],
   "source": [
    "which cupid-run\n",
    "echo $?"
   ]
  },
  {
   "cell_type": "code",
   "execution_count": 26,
   "id": "c593d967-45e6-4e64-b3cc-32c8c50ed139",
   "metadata": {},
   "outputs": [
    {
     "name": "stdout",
     "output_type": "stream",
     "text": [
      "(cupid-dev) \n",
      "  Generating atm time series files...\n",
      "\t Processing time series for case 'b.day2.1' :\n",
      "\t - time series for TREFHT\n",
      "  ... atm time series file generation has finished successfully.\n",
      "\n",
      "  Generating ocn time series files...\n",
      "\t Processing time series for case 'b.day2.1' :\n",
      "  ... ocn time series file generation has finished successfully.\n",
      "\n",
      "  Generating lnd time series files...\n",
      "\t Processing time series for case 'b.day2.1' :\n",
      "\t - time series for ALTMAX\n",
      "  ... lnd time series file generation has finished successfully.\n",
      "\n",
      "  Generating ice time series files...\n",
      "\t Processing time series for case 'b.day2.1' :\n",
      "\t - time series for hi\n",
      "  ... ice time series file generation has finished successfully.\n",
      "\n",
      "  Generating glc time series files...\n",
      "\t Processing time series for case 'b.day2.1' :\n",
      "\t - time series for usurf\n",
      "  ... glc time series file generation has finished successfully.\n",
      "/glade/work/nusbaume/conda-envs/cupid-dev/lib/python3.11/site-packages/ploomber/dag/dag.py:455: UserWarning: \n",
      "\u001b[33m=========================== DAG render with warnings ===========================\u001b[0m\n",
      "\u001b[33m--- NotebookRunner: index -> File('computed_notebook...ucture/index.ipynb') ----\u001b[0m\n",
      "\u001b[33m- /glade/u/home/nusbaume/CESM_tutorials/2024/CESM-Tutorial/notebooks/diagnostics/CUPiD/examples/nblibrary/infrastructure/index.ipynb -\u001b[0m\n",
      "These parameters are not used in the task's source code: 'CESM_output_dir', 'lc_kwargs', 'serial', and 'subset_kwargs'\n",
      "\u001b[33m- NotebookRunner: land_comparison -> File('computed_notebook...d_comparison.ipynb') -\u001b[0m\n",
      "\u001b[33m- /glade/u/home/nusbaume/CESM_tutorials/2024/CESM-Tutorial/notebooks/diagnostics/CUPiD/examples/nblibrary/lnd/land_comparison.ipynb -\u001b[0m\n",
      "These parameters are not used in the task's source code: 'lc_kwargs', 'serial', and 'subset_kwargs'\n",
      "\u001b[33m--- NotebookRunner: seaice -> File('computed_notebook...n/ice/seaice.ipynb') ---\u001b[0m\n",
      "\u001b[33m- /glade/u/home/nusbaume/CESM_tutorials/2024/CESM-Tutorial/notebooks/diagnostics/CUPiD/examples/nblibrary/ice/seaice.ipynb -\u001b[0m\n",
      "These parameters are not used in the task's source code: 'subset_kwargs'\n",
      "\u001b[33m============================== Summary (3 tasks) ===============================\u001b[0m\n",
      "NotebookRunner: index -> File('computed_notebook...ucture/index.ipynb')\n",
      "NotebookRunner: land_comparison -> File('computed_notebook...d_comparison.ipynb')\n",
      "NotebookRunner: seaice -> File('computed_notebook...n/ice/seaice.ipynb')\n",
      "\u001b[33m=========================== DAG render with warnings ===========================\u001b[0m\n",
      "\n",
      "  warnings.warn(str(warnings_))\n",
      "Building task 'index':   0%|                              | 0/3 [00:00<?, ?it/s]\n",
      "Executing:   0%|                                        | 0/3 [00:38<?, ?cell/s]\u001b[A\n",
      "Building task 'index':   0%|                              | 0/3 [00:38<?, ?it/s]\n",
      "\n",
      "Aborted!\n",
      "\u001b[0m(cupid-dev) "
     ]
    }
   ],
   "source": [
    "module load nco #Currently the NetCDF Operators are needed by CUPiD in order to run the time series generator\n",
    "cupid-run -ts"
   ]
  },
  {
   "cell_type": "code",
   "execution_count": null,
   "id": "bc6874fa-2a9f-4e82-bc50-1893bab6b73a",
   "metadata": {},
   "outputs": [],
   "source": []
  }
 ],
 "metadata": {
  "kernelspec": {
   "display_name": "Bash",
   "language": "bash",
   "name": "bash"
  },
  "language_info": {
   "codemirror_mode": "shell",
   "file_extension": ".sh",
   "mimetype": "text/x-sh",
   "name": "bash"
  }
 },
 "nbformat": 4,
 "nbformat_minor": 5
}
