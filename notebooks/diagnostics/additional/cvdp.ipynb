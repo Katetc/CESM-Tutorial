{
 "cells": [
  {
   "cell_type": "markdown",
   "id": "f406f992-92bd-4b17-9bd3-b99c5c8abaf3",
   "metadata": {},
   "source": [
    "# CVDP"
   ]
  },
  {
   "cell_type": "markdown",
   "id": "8f46aef7-947e-498e-90b1-a4ed6b077f6d",
   "metadata": {},
   "source": [
    "The Climate Variability Diagnostics Package (CVDP) developed by NSF-NCAR's Climate Analysis Section is an automated analysis tool and data repository for assessing modes of climate variability and trends in models and observations.  Time series, spatial patterns and power spectra are displayed graphically via webpages and saved as NetCDF files for later use. The package can be applied to individual model simulations ("style 1") or to “initial condition” Large Ensembles (“style 2”).  Both styles provide quantitative metrics comparing models and observations; style 2 also includes ensemble mean (i.e., forced response) and ensemble spread (i.e., internal variability) diagnostics.  Several detrending options are provided, including linear, quadratic, 30-year high-pass filter and removal of the ensemble mean (in the case of Large Ensembles). All diagnostics and metrics are fully documented with references to the peer-reviewed literature.\n",
    "\n",
    "Examples of CVDP output:\n",
    "https://www.cesm.ucar.edu/projects/cvdp\n",
    "\n",
    "\n"
   ]
  },
  {
   "cell_type": "markdown",
   "id": "f5d5800f-8a0c-4cdf-930b-48be1cb40796",
   "metadata": {},
   "source": [
    "**Additional documentation in progress.**"
   ]
  },
  {
   "cell_type": "code",
   "execution_count": null,
   "id": "def586e4-6553-48b9-b05c-2308dad9181c",
   "metadata": {},
   "outputs": [],
   "source": []
  }
 ],
 "metadata": {
  "kernelspec": {
   "display_name": "Python 3 (ipykernel)",
   "language": "python",
   "name": "python3"
  },
  "language_info": {
   "codemirror_mode": {
    "name": "ipython",
    "version": 3
   },
   "file_extension": ".py",
   "mimetype": "text/x-python",
   "name": "python",
   "nbconvert_exporter": "python",
   "pygments_lexer": "ipython3",
   "version": "3.10.13"
  }
 },
 "nbformat": 4,
 "nbformat_minor": 5
}
