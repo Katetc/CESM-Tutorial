{
 "cells": [
  {
   "cell_type": "markdown",
   "id": "55f2ff0c-2b84-4c10-bde3-bc23722cb0ab",
   "metadata": {},
   "source": [
    "These are examples of typical variables and plots that we look at in our sea ice diagnostics package. The most current version of the sea ice diagnostics are in the CESM Postprocessing. More information here: [CESM Postprocessing](https://github.com/NCAR/CESM_postprocessing)."
   ]
  },
  {
   "cell_type": "markdown",
   "id": "0a9043ca-ec38-4bc9-84e9-54e375c8f4e6",
   "metadata": {},
   "source": [
    "In exercise 1, you will learn about plotting sea ice area and other variables on a polar projection."
   ]
  },
  {
   "cell_type": "markdown",
   "id": "3d56ba02-c652-4a97-a466-d3633e53aeb1",
   "metadata": {},
   "source": [
    "The first step is to import the libraries needed to plot the data. Here we will use `xarray` as a tool to read the netCDF file. We will use `numpy` for some basic math calculations. For plotting the data we will neet `matplotlib`, `pop_tools`, `geocat` and `cartopy`."
   ]
  },
  {
   "cell_type": "markdown",
   "id": "98894413-8550-49ba-b5ff-c027900b253a",
   "metadata": {},
   "source": [
    "**Exercise 1: Plot Sea Ice Concentration on a polar projection.**"
   ]
  },
  {
   "cell_type": "code",
   "execution_count": null,
   "id": "7e7f10ae-61c8-45f1-9d5c-9be60632b556",
   "metadata": {},
   "outputs": [],
   "source": [
    "import xarray as xr\n",
    "import numpy as np\n",
    "import matplotlib.pyplot as plt\n",
    "import matplotlib.path as mpath\n",
    "from matplotlib.gridspec import GridSpec\n",
    "import pop_tools\n",
    "from datetime import datetime\n",
    "import glob\n",
    "#import geocat.datafiles as gdf\n",
    "import geocat.viz.util as gvutil\n",
    "#from geocat.viz import cmaps as gvcmaps\n",
    "import cartopy.crs as ccrs\n",
    "import cartopy.feature as cfeature\n",
    "import nc_time_axis"
   ]
  },
  {
   "cell_type": "markdown",
   "id": "c0dd3647-5e9e-4d57-8cfb-4e0f073a269c",
   "metadata": {},
   "source": [
    "The next few steps read in sea ice concentration or `aice` from one of the CESM2 large ensemble historical runs. Note this operation points to multiple files on the campaign file system and so we are using the `xarray` function `open_mfdataset` for a multifile dataset. We will also print the `aice` dataset to get an idea of the metadata and dimensions. Note that we could use the 10 year simulation from the tutorial. However, 10 years is very short and is not a very interesting timeseries. Instead we can use one of the CESM2 Large Ensemble historical simulations. [Rodgers et al. 2021](https://doi.org/10.5194/esd-12-1393-2021)"
   ]
  },
  {
   "cell_type": "code",
   "execution_count": null,
   "id": "d3f591cc-dd67-4a3f-abe7-bfc740743db1",
   "metadata": {},
   "outputs": [],
   "source": [
    "files = \"/glade/campaign/cgd/cesm/CESM2-LE/ice/proc/tseries/month_1/aice/b.e21.BHISTcmip6.f09_g17.LE2-1001.001.cice.h.aice.*\"\n",
    "\n",
    "ds = xr.open_mfdataset(files)\n",
    "\n",
    "aice = ds['aice']\n",
    "\n",
    "print(aice)"
   ]
  },
  {
   "cell_type": "markdown",
   "id": "ded5a0a7-9e8f-4e00-8f5e-383c68cdb201",
   "metadata": {},
   "source": [
    "The next step is to read in some grid information for the `gx1v7` dipole grid used in POP and CICE. We will read in three main variables: `tarea`, `TLAT`, and `TLON`. These are the areas of the gridcells along with the latitudes and longitudes of the gridcell centers. Also, we will print the latitude array `TLAT` to see the metadata."
   ]
  },
  {
   "cell_type": "code",
   "execution_count": null,
   "id": "19cf3c69-1a1d-467e-8071-e2be50d33150",
   "metadata": {},
   "outputs": [],
   "source": [
    "# get pop grid grid cell areas\n",
    "grid = pop_tools.get_grid('POP_gx1v7')\n",
    "grid\n",
    "\n",
    "# convert tarea to m^2\n",
    "tarea = grid['TAREA']/(1e4)\n",
    "\n",
    "# get lat and lon\n",
    "TLAT = grid['TLAT']\n",
    "TLON = grid['TLONG']\n",
    "\n",
    "TLATx = gvutil.xr_add_cyclic_longitudes(TLAT,\"nlon\")\n",
    "TLONx = gvutil.xr_add_cyclic_longitudes(TLON,\"nlon\")\n",
    "\n",
    "print(TLAT)"
   ]
  },
  {
   "cell_type": "markdown",
   "id": "101ce439-4fd7-412b-9f1d-1e7f34060747",
   "metadata": {},
   "source": [
    "The next step is to set up the northern hemisphere polar stereographic projection for plotting the sea ice concentration `aice`. We are using a \"rainbow\" colormap here and cutting off the plot with a circular boundary. Note that we are only plotting the first timeslice of the `aice` array here."
   ]
  },
  {
   "cell_type": "code",
   "execution_count": null,
   "id": "28a0da20-6bad-45d7-a61a-43d55ea2acd2",
   "metadata": {},
   "outputs": [],
   "source": [
    "# make circular boundary for polar stereographic circular plots\n",
    "theta = np.linspace(0, 2*np.pi, 100)\n",
    "center, radius = [0.5, 0.5], 0.5\n",
    "verts = np.vstack([np.sin(theta), np.cos(theta)]).T\n",
    "circle = mpath.Path(verts * radius + center)\n",
    "\n",
    "cmap = plt.cm.get_cmap('rainbow')  \n",
    "fig = plt.figure(figsize=(20,20))\n",
    "ax = fig.add_subplot(1,3,1, projection=ccrs.NorthPolarStereo())\n",
    "ax.set_boundary(circle, transform=ax.transAxes)\n",
    "ax.add_feature(cfeature.LAND,zorder=100,edgecolor='k')\n",
    "ax.set_extent([0.005, 360, 90, 55], crs=ccrs.PlateCarree())\n",
    "this=ax.pcolormesh(TLONx,TLATx,\n",
    "                   aice[0,:,:],\n",
    "                   cmap=cmap,vmax=1,vmin=0,\n",
    "                   transform=ccrs.PlateCarree())\n",
    "plt.colorbar(this,orientation='vertical',fraction=0.04,pad=0.01)\n",
    "plt.title('Sea Ice Concentration',fontsize=20)"
   ]
  },
  {
   "cell_type": "markdown",
   "id": "9ea89d98-5973-4617-a612-3739fb6adb2c",
   "metadata": {},
   "source": [
    "Things to try.\n",
    "\n",
    "1. Try other colormaps here. Some examples to try: `viridis`, `plasma`, `Blues`. Try reversing the colormaps. Hint: add the string `_r` to the colormap name.\n",
    "\n",
    "2. Try a different timeslice from aice. Note the number of timeslices in the metadata you printed above. Why does the number 1980 not work? Note that the calendar goes from 1850-01 to 2015-12 as these are monthly mean time slices. Can you compute an annual mean over the 165 years and plot that? Can you compute the September mean over the 165 years and plot that?\n",
    "\n",
    "Hint: Use aice.mean(dim='time')\n",
    "\n",
    "3. Try sea ice thickness `hi` now. What happens to the colorbar? Try increasing the maximum value `vmax`. Note that you have to change the files that are read in.\n",
    "\n",
    "Hint: Do a search and replace on `aice` with `hi`.\n",
    "\n",
    "4. Now how about the Southern Hemisphere?\n"
   ]
  },
  {
   "cell_type": "markdown",
   "id": "863b66a4-802d-4f63-9770-db9d9c0003da",
   "metadata": {},
   "source": [
    "<div class=\"alert alert-success\">   \n",
    "<details>\n",
    "<summary><font face=\"Times New Roman\" color='blue'>Click here for the solution</font></summary><br>\n",
    "\n",
    "1. Colormaps\n",
    "```\n",
    "cmap = plt.cm.get_cmap('viridis')\n",
    "cmap = plt.cm.get_cmap('plasma')\n",
    "cmap = plt.cm.get_cmap('Blues')\n",
    "cmap = plt.cm.get_cmap('Blues_r')\n",
    "```\n",
    "<br>\n",
    "\n",
    "2. Means\n",
    "```\n",
    "this=ax.pcolormesh(TLONx,TLATx,\n",
    "                   aice[1979,:,:],\n",
    "\n",
    "aicemean = aice.mean(dim='time')\n",
    "\n",
    "aicemean = aice[8::12,:,:].mean(dim='time')\n",
    "```\n",
    "<br>\n",
    "\n",
    "3. Ice Thickness\n",
    "```\n",
    "- change all occurences of `aice` to `hi`\n",
    "- Try `vmax = 5`\n",
    "```\n",
    "\n",
    "4. Southern Hemisphere\n",
    "```\n",
    "ax = fig.add_subplot(1,3,1, projection=ccrs.SouthPolarStereo())\n",
    "\n",
    "ax.set_extent([0.005, 360, -90, -55], crs=ccrs.PlateCarree())\n",
    "```\n",
    "\n",
    "</details>\n",
    "</div>"
   ]
  },
  {
   "cell_type": "markdown",
   "id": "42b295a0-4675-4d4e-814f-5aac53b90973",
   "metadata": {},
   "source": [
    "**Exercise 2: Plot a time series of total sea ice area.**"
   ]
  },
  {
   "cell_type": "markdown",
   "id": "9aa682c3-d6ed-4188-885f-d34268deac50",
   "metadata": {},
   "source": [
    "The first step is to compute total ice area. First we will do this for the northern hemisphere. The total ice area involves the `tarea` array as above. First we create a mask for the northern hemisphere."
   ]
  },
  {
   "cell_type": "code",
   "execution_count": null,
   "id": "ab1c8910-677e-4345-8f06-ec3f7a4a9f07",
   "metadata": {},
   "outputs": [],
   "source": [
    "mask = np.where(TLAT > 0, 1, 0)\n",
    "\n",
    "nharea = mask * tarea.values\n",
    "\n",
    "aice_masked = np.where(np.isnan(aice.values),0,aice)"
   ]
  },
  {
   "cell_type": "markdown",
   "id": "6d35580d-27a0-4a42-873e-8cd16a8766fa",
   "metadata": {},
   "source": [
    "Next we compute the total area as a multi-dimenstional dot product of the ice area and masked tarea. This uses the python NumPy function `tensordot` to do a multi-dimensional dot product. This basically does a sum over the two spatial dimensions. [Python tensordot](https://numpy.org/doc/stable/reference/generated/numpy.tensordot.html)"
   ]
  },
  {
   "cell_type": "code",
   "execution_count": null,
   "id": "2d177fa4-70c3-4f58-8b2f-4b9193ee3cbe",
   "metadata": {},
   "outputs": [],
   "source": [
    "totalarea = np.tensordot(aice_masked,nharea,axes=2)*1.0e-12\n",
    "\n",
    "print(totalarea)"
   ]
  },
  {
   "cell_type": "markdown",
   "id": "c06fedf0-775c-4874-a2a1-50d6cc67bc96",
   "metadata": {},
   "source": [
    "Next we create a time axis to go with the data. Hopefully we can fix this using nc-time-axis very soon."
   ]
  },
  {
   "cell_type": "code",
   "execution_count": null,
   "id": "c681705c-2267-4fad-9c77-62e02de1573b",
   "metadata": {},
   "outputs": [],
   "source": [
    "#time = [f'{str_time}'[:4] for str_time in ds['time'].values]\n",
    "time = ds['time']\n",
    "totarea = xr.DataArray(data=totalarea,coords={\"time\":time})\n",
    "\n",
    "print(totarea)\n"
   ]
  },
  {
   "cell_type": "markdown",
   "id": "13ae1453-c4e6-435e-bcf1-89322a31fcc4",
   "metadata": {},
   "source": [
    "Now plot the total area. "
   ]
  },
  {
   "cell_type": "code",
   "execution_count": null,
   "id": "220f14fe-3d53-4d0a-8899-defc644e857f",
   "metadata": {},
   "outputs": [],
   "source": [
    "totarea.plot()\n",
    "plt.xticks(totarea.time[8::600]);"
   ]
  },
  {
   "cell_type": "markdown",
   "id": "9efb6f20-f442-42b6-a838-c0af66a98ba6",
   "metadata": {},
   "source": [
    "This plot looks very noisy! Why do you think this is? Hint: you have plotted how many years of monthly mean data? Let's try just plotting September instead. Hint: By subsetting the totarea area starting at September (8 in 0 based indexing) and then going every twelve slices."
   ]
  },
  {
   "cell_type": "code",
   "execution_count": null,
   "id": "90d62f0a-e43b-4bad-a759-0133bc2860aa",
   "metadata": {},
   "outputs": [],
   "source": [
    "totarea[8::12].plot()\n",
    "plt.xticks(totarea.time[8::600]);"
   ]
  },
  {
   "cell_type": "markdown",
   "id": "5ded2ffd-8560-49fa-969f-22f0480018ed",
   "metadata": {},
   "source": [
    "Things to try:\n",
    "\n",
    "1. Try plotting the March total area time series. Hint: The first March is slice 2.\n",
    "\n",
    "2. Try computing total ice volume and plotting it. Hint: Use the variable `hi` in place of `aice`. Note that volume is units of $m^3$. So, you might want to scale the volume by $1.0e-13$.\n",
    "\n",
    "3. What does the Southern Hemisphere sea ice area and volume look like?"
   ]
  },
  {
   "cell_type": "markdown",
   "id": "be845b70-9592-4b30-a018-b470c8304ae5",
   "metadata": {},
   "source": [
    "<div class=\"alert alert-success\">   \n",
    "<details>\n",
    "<summary><font face=\"Times New Roman\" color='blue'>Click here for the solution</font></summary><br>\n",
    "\n",
    "1. March total area.\n",
    "```\n",
    "totarea[2::12}.plot()\n",
    "```\n",
    "<br>\n",
    "\n",
    "2. Ice Volume\n",
    "```\n",
    "hi_masked = np.where(np.isnan(hi.values),0,hi)\n",
    "\n",
    "totalvolume = np.tensordot(hi_masked,nharea,axes=2)*1.0e-13\n",
    "```\n",
    "<br>\n",
    "    \n",
    "3. Southern Hemisphere\n",
    "```\n",
    "mask = np.where(TLAT < 0, 1, 0)\n",
    "```\n",
    "    \n",
    "</details>\n",
    "</div>"
   ]
  },
  {
   "cell_type": "code",
   "execution_count": null,
   "id": "25cf9352-2ee8-4b2b-ae7f-d7edc764977a",
   "metadata": {},
   "outputs": [],
   "source": []
  }
 ],
 "metadata": {
  "kernelspec": {
   "display_name": "NPL 2023a",
   "language": "python",
   "name": "npl-2023a"
  },
  "language_info": {
   "codemirror_mode": {
    "name": "ipython",
    "version": 3
   },
   "file_extension": ".py",
   "mimetype": "text/x-python",
   "name": "python",
   "nbconvert_exporter": "python",
   "pygments_lexer": "ipython3",
   "version": "3.9.15"
  }
 },
 "nbformat": 4,
 "nbformat_minor": 5
}
