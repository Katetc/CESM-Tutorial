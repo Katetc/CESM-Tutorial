{
 "cells": [
  {
   "cell_type": "markdown",
   "id": "f406f992-92bd-4b17-9bd3-b99c5c8abaf3",
   "metadata": {},
   "source": [
    "# CICE"
   ]
  },
  {
   "cell_type": "markdown",
   "id": "b6f4905b-cd2a-454e-89cf-ccc585c90247",
   "metadata": {
    "tags": []
   },
   "source": [
    "## Learning Goals\n",
    "\n",
    "- Making polar projection plots\n",
    "- Understanding sea ice variables such as concentration and thickness\n",
    "- Computing total sea ice area or volume"
   ]
  },
  {
   "cell_type": "markdown",
   "id": "e73ce5d6-d2b1-4f32-b64f-337a1b02e2d0",
   "metadata": {},
   "source": [
    "_______________\n",
    "\n",
    "## Exercise 1: Making polar projection plots of sea ice concentration.\n",
    "\n",
    "Here we will use some custom python tools to produce a polar projection plot of sea ice concentration. Some things to try include changing the colormap, plotting sea ice thickness instead of concentration, changing hemispheres."
   ]
  },
  {
   "cell_type": "markdown",
   "id": "815e0869-0518-4cf9-9417-cd9b08965ca1",
   "metadata": {},
   "source": [
    "_______________\n",
    "\n",
    "## Exersise 2: Compute total sea ice area and plot versus time.\n",
    "\n",
    "Here will we learn how to compute the total sea ice area for the northern hemisphere. Then plot this versus time. Some exercises will be plotting the monthly mean sea ice area, plotting just September or March mean sea ice area, computing sea ice volume and plotting that.\n"
   ]
  },
  {
   "cell_type": "markdown",
   "id": "f1579c81-4e73-4c70-b85b-07b7c749ea68",
   "metadata": {},
   "source": [
    "Both exercises are contained in [Sea Ice Diagnostics](seaice_diagnostics.ipynb)"
   ]
  },
  {
   "cell_type": "code",
   "execution_count": null,
   "id": "c93a07f1-255f-4fc4-b048-c08ee7b99b7e",
   "metadata": {},
   "outputs": [],
   "source": []
  }
 ],
 "metadata": {
  "kernelspec": {
   "display_name": "Python 3 (ipykernel)",
   "language": "python",
   "name": "python3"
  },
  "language_info": {
   "codemirror_mode": {
    "name": "ipython",
    "version": 3
   },
   "file_extension": ".py",
   "mimetype": "text/x-python",
   "name": "python",
   "nbconvert_exporter": "python",
   "pygments_lexer": "ipython3",
   "version": "3.9.12"
  }
 },
 "nbformat": 4,
 "nbformat_minor": 5
}
